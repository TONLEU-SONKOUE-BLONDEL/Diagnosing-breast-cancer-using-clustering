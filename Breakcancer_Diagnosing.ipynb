{
 "cells": [
  {
   "cell_type": "markdown",
   "id": "1ec3b66f",
   "metadata": {},
   "source": [
    "# Diagnosing breast cancer using clustering"
   ]
  },
  {
   "cell_type": "markdown",
   "id": "680280a7",
   "metadata": {},
   "source": [
    "### 1-Importing libraries"
   ]
  },
  {
   "cell_type": "code",
   "execution_count": 1,
   "id": "a7b053c4",
   "metadata": {},
   "outputs": [],
   "source": [
    "import pandas as pd\n",
    "import numpy as np\n",
    "from scipy.stats import pearsonr\n",
    "import matplotlib.pyplot as plt\n",
    "import matplotlib.pyplot as pyplot\n",
    "from sklearn.preprocessing import StandardScaler\n",
    "import seaborn as sns\n",
    "from sklearn.cluster import KMeans\n",
    "from yellowbrick.cluster import KElbowVisualizer\n",
    "from sklearn.decomposition import PCA, KernelPCA \n",
    "from sklearn.preprocessing import StandardScaler"
   ]
  },
  {
   "cell_type": "code",
   "execution_count": 2,
   "id": "2c725851",
   "metadata": {},
   "outputs": [],
   "source": [
    "#Importing data\n",
    "file=r'C:/Users/bc/Desktop/donnee vente/BreastCancer .csv'\n",
    "data=pd.read_csv(file)"
   ]
  },
  {
   "cell_type": "code",
   "execution_count": 3,
   "id": "e9110ee2",
   "metadata": {},
   "outputs": [
    {
     "data": {
      "text/html": [
       "<div>\n",
       "<style scoped>\n",
       "    .dataframe tbody tr th:only-of-type {\n",
       "        vertical-align: middle;\n",
       "    }\n",
       "\n",
       "    .dataframe tbody tr th {\n",
       "        vertical-align: top;\n",
       "    }\n",
       "\n",
       "    .dataframe thead th {\n",
       "        text-align: right;\n",
       "    }\n",
       "</style>\n",
       "<table border=\"1\" class=\"dataframe\">\n",
       "  <thead>\n",
       "    <tr style=\"text-align: right;\">\n",
       "      <th></th>\n",
       "      <th>Sample code number</th>\n",
       "      <th>Clump thickness</th>\n",
       "      <th>Uniformity of cell cize</th>\n",
       "      <th>Uniformity of cell shape</th>\n",
       "      <th>Marginal adhesion</th>\n",
       "      <th>Single epithelial cell size</th>\n",
       "      <th>Bare nuclei</th>\n",
       "      <th>Bland chromatin</th>\n",
       "      <th>Normal nucleoli</th>\n",
       "      <th>Mitoses</th>\n",
       "      <th>Class</th>\n",
       "    </tr>\n",
       "  </thead>\n",
       "  <tbody>\n",
       "    <tr>\n",
       "      <th>0</th>\n",
       "      <td>1000025</td>\n",
       "      <td>5</td>\n",
       "      <td>1</td>\n",
       "      <td>1</td>\n",
       "      <td>1</td>\n",
       "      <td>2</td>\n",
       "      <td>1.0</td>\n",
       "      <td>3</td>\n",
       "      <td>1</td>\n",
       "      <td>1</td>\n",
       "      <td>2</td>\n",
       "    </tr>\n",
       "    <tr>\n",
       "      <th>1</th>\n",
       "      <td>1002945</td>\n",
       "      <td>5</td>\n",
       "      <td>4</td>\n",
       "      <td>4</td>\n",
       "      <td>5</td>\n",
       "      <td>7</td>\n",
       "      <td>10.0</td>\n",
       "      <td>3</td>\n",
       "      <td>2</td>\n",
       "      <td>1</td>\n",
       "      <td>2</td>\n",
       "    </tr>\n",
       "    <tr>\n",
       "      <th>2</th>\n",
       "      <td>1015425</td>\n",
       "      <td>3</td>\n",
       "      <td>1</td>\n",
       "      <td>1</td>\n",
       "      <td>1</td>\n",
       "      <td>2</td>\n",
       "      <td>2.0</td>\n",
       "      <td>3</td>\n",
       "      <td>1</td>\n",
       "      <td>1</td>\n",
       "      <td>2</td>\n",
       "    </tr>\n",
       "    <tr>\n",
       "      <th>3</th>\n",
       "      <td>1016277</td>\n",
       "      <td>6</td>\n",
       "      <td>8</td>\n",
       "      <td>8</td>\n",
       "      <td>1</td>\n",
       "      <td>3</td>\n",
       "      <td>4.0</td>\n",
       "      <td>3</td>\n",
       "      <td>7</td>\n",
       "      <td>1</td>\n",
       "      <td>2</td>\n",
       "    </tr>\n",
       "    <tr>\n",
       "      <th>4</th>\n",
       "      <td>1017023</td>\n",
       "      <td>4</td>\n",
       "      <td>1</td>\n",
       "      <td>1</td>\n",
       "      <td>3</td>\n",
       "      <td>2</td>\n",
       "      <td>1.0</td>\n",
       "      <td>3</td>\n",
       "      <td>1</td>\n",
       "      <td>1</td>\n",
       "      <td>2</td>\n",
       "    </tr>\n",
       "  </tbody>\n",
       "</table>\n",
       "</div>"
      ],
      "text/plain": [
       "   Sample code number  Clump thickness  Uniformity of cell cize  \\\n",
       "0             1000025                5                        1   \n",
       "1             1002945                5                        4   \n",
       "2             1015425                3                        1   \n",
       "3             1016277                6                        8   \n",
       "4             1017023                4                        1   \n",
       "\n",
       "   Uniformity of cell shape  Marginal adhesion  Single epithelial cell size  \\\n",
       "0                         1                  1                            2   \n",
       "1                         4                  5                            7   \n",
       "2                         1                  1                            2   \n",
       "3                         8                  1                            3   \n",
       "4                         1                  3                            2   \n",
       "\n",
       "   Bare nuclei  Bland chromatin  Normal nucleoli  Mitoses  Class  \n",
       "0          1.0                3                1        1      2  \n",
       "1         10.0                3                2        1      2  \n",
       "2          2.0                3                1        1      2  \n",
       "3          4.0                3                7        1      2  \n",
       "4          1.0                3                1        1      2  "
      ]
     },
     "execution_count": 3,
     "metadata": {},
     "output_type": "execute_result"
    }
   ],
   "source": [
    "#Show the first 5 rows\n",
    "data.head()"
   ]
  },
  {
   "cell_type": "markdown",
   "id": "7920d6eb",
   "metadata": {},
   "source": [
    "### 7.2.1 Business Understanding"
   ]
  },
  {
   "cell_type": "markdown",
   "id": "2f37b0ce",
   "metadata": {},
   "source": [
    "#### Attributes of the Breast Cancer Wisconsin data set"
   ]
  },
  {
   "cell_type": "code",
   "execution_count": 4,
   "id": "6ddf0dec",
   "metadata": {},
   "outputs": [
    {
     "name": "stdout",
     "output_type": "stream",
     "text": [
      "<class 'pandas.core.frame.DataFrame'>\n",
      "RangeIndex: 699 entries, 0 to 698\n",
      "Data columns (total 11 columns):\n",
      " #   Column                       Non-Null Count  Dtype  \n",
      "---  ------                       --------------  -----  \n",
      " 0   Sample code number           699 non-null    int64  \n",
      " 1   Clump thickness              699 non-null    int64  \n",
      " 2   Uniformity of cell cize      699 non-null    int64  \n",
      " 3   Uniformity of cell shape     699 non-null    int64  \n",
      " 4   Marginal adhesion            699 non-null    int64  \n",
      " 5   Single epithelial cell size  699 non-null    int64  \n",
      " 6   Bare nuclei                  683 non-null    float64\n",
      " 7   Bland chromatin              699 non-null    int64  \n",
      " 8   Normal nucleoli              699 non-null    int64  \n",
      " 9   Mitoses                      699 non-null    int64  \n",
      " 10  Class                        699 non-null    int64  \n",
      "dtypes: float64(1), int64(10)\n",
      "memory usage: 60.2 KB\n"
     ]
    }
   ],
   "source": [
    "data.info()"
   ]
  },
  {
   "cell_type": "markdown",
   "id": "c93c2e82",
   "metadata": {},
   "source": [
    "### 7.2.3 Data Preparation"
   ]
  },
  {
   "cell_type": "code",
   "execution_count": 5,
   "id": "c513daec",
   "metadata": {},
   "outputs": [
    {
     "data": {
      "text/plain": [
       "Sample code number              0\n",
       "Clump thickness                 0\n",
       "Uniformity of cell cize         0\n",
       "Uniformity of cell shape        0\n",
       "Marginal adhesion               0\n",
       "Single epithelial cell size     0\n",
       "Bare nuclei                    16\n",
       "Bland chromatin                 0\n",
       "Normal nucleoli                 0\n",
       "Mitoses                         0\n",
       "Class                           0\n",
       "dtype: int64"
      ]
     },
     "execution_count": 5,
     "metadata": {},
     "output_type": "execute_result"
    }
   ],
   "source": [
    "data.isna().sum()"
   ]
  },
  {
   "cell_type": "markdown",
   "id": "faf59cc9",
   "metadata": {},
   "source": [
    "The “bare nuclei” attribute has 16 missing values. This is the unique quality\n",
    "problem of the data set. Since the dataset has 699 instances, to remove 16 of\n",
    "them is not problematic. we remove it"
   ]
  },
  {
   "cell_type": "code",
   "execution_count": 6,
   "id": "e5759770",
   "metadata": {},
   "outputs": [
    {
     "data": {
      "text/html": [
       "<div>\n",
       "<style scoped>\n",
       "    .dataframe tbody tr th:only-of-type {\n",
       "        vertical-align: middle;\n",
       "    }\n",
       "\n",
       "    .dataframe tbody tr th {\n",
       "        vertical-align: top;\n",
       "    }\n",
       "\n",
       "    .dataframe thead th {\n",
       "        text-align: right;\n",
       "    }\n",
       "</style>\n",
       "<table border=\"1\" class=\"dataframe\">\n",
       "  <thead>\n",
       "    <tr style=\"text-align: right;\">\n",
       "      <th></th>\n",
       "      <th>Sample code number</th>\n",
       "      <th>Clump thickness</th>\n",
       "      <th>Uniformity of cell cize</th>\n",
       "      <th>Uniformity of cell shape</th>\n",
       "      <th>Marginal adhesion</th>\n",
       "      <th>Single epithelial cell size</th>\n",
       "      <th>Bare nuclei</th>\n",
       "      <th>Bland chromatin</th>\n",
       "      <th>Normal nucleoli</th>\n",
       "      <th>Mitoses</th>\n",
       "      <th>Class</th>\n",
       "    </tr>\n",
       "  </thead>\n",
       "  <tbody>\n",
       "    <tr>\n",
       "      <th>count</th>\n",
       "      <td>6.990000e+02</td>\n",
       "      <td>699.000000</td>\n",
       "      <td>699.000000</td>\n",
       "      <td>699.000000</td>\n",
       "      <td>699.000000</td>\n",
       "      <td>699.000000</td>\n",
       "      <td>683.000000</td>\n",
       "      <td>699.000000</td>\n",
       "      <td>699.000000</td>\n",
       "      <td>699.000000</td>\n",
       "      <td>699.000000</td>\n",
       "    </tr>\n",
       "    <tr>\n",
       "      <th>mean</th>\n",
       "      <td>1.071704e+06</td>\n",
       "      <td>4.417740</td>\n",
       "      <td>3.134478</td>\n",
       "      <td>3.207439</td>\n",
       "      <td>2.806867</td>\n",
       "      <td>3.216023</td>\n",
       "      <td>3.544656</td>\n",
       "      <td>3.437768</td>\n",
       "      <td>2.866953</td>\n",
       "      <td>1.589413</td>\n",
       "      <td>2.689557</td>\n",
       "    </tr>\n",
       "    <tr>\n",
       "      <th>std</th>\n",
       "      <td>6.170957e+05</td>\n",
       "      <td>2.815741</td>\n",
       "      <td>3.051459</td>\n",
       "      <td>2.971913</td>\n",
       "      <td>2.855379</td>\n",
       "      <td>2.214300</td>\n",
       "      <td>3.643857</td>\n",
       "      <td>2.438364</td>\n",
       "      <td>3.053634</td>\n",
       "      <td>1.715078</td>\n",
       "      <td>0.951273</td>\n",
       "    </tr>\n",
       "    <tr>\n",
       "      <th>min</th>\n",
       "      <td>6.163400e+04</td>\n",
       "      <td>1.000000</td>\n",
       "      <td>1.000000</td>\n",
       "      <td>1.000000</td>\n",
       "      <td>1.000000</td>\n",
       "      <td>1.000000</td>\n",
       "      <td>1.000000</td>\n",
       "      <td>1.000000</td>\n",
       "      <td>1.000000</td>\n",
       "      <td>1.000000</td>\n",
       "      <td>2.000000</td>\n",
       "    </tr>\n",
       "    <tr>\n",
       "      <th>25%</th>\n",
       "      <td>8.706885e+05</td>\n",
       "      <td>2.000000</td>\n",
       "      <td>1.000000</td>\n",
       "      <td>1.000000</td>\n",
       "      <td>1.000000</td>\n",
       "      <td>2.000000</td>\n",
       "      <td>1.000000</td>\n",
       "      <td>2.000000</td>\n",
       "      <td>1.000000</td>\n",
       "      <td>1.000000</td>\n",
       "      <td>2.000000</td>\n",
       "    </tr>\n",
       "    <tr>\n",
       "      <th>50%</th>\n",
       "      <td>1.171710e+06</td>\n",
       "      <td>4.000000</td>\n",
       "      <td>1.000000</td>\n",
       "      <td>1.000000</td>\n",
       "      <td>1.000000</td>\n",
       "      <td>2.000000</td>\n",
       "      <td>1.000000</td>\n",
       "      <td>3.000000</td>\n",
       "      <td>1.000000</td>\n",
       "      <td>1.000000</td>\n",
       "      <td>2.000000</td>\n",
       "    </tr>\n",
       "    <tr>\n",
       "      <th>75%</th>\n",
       "      <td>1.238298e+06</td>\n",
       "      <td>6.000000</td>\n",
       "      <td>5.000000</td>\n",
       "      <td>5.000000</td>\n",
       "      <td>4.000000</td>\n",
       "      <td>4.000000</td>\n",
       "      <td>6.000000</td>\n",
       "      <td>5.000000</td>\n",
       "      <td>4.000000</td>\n",
       "      <td>1.000000</td>\n",
       "      <td>4.000000</td>\n",
       "    </tr>\n",
       "    <tr>\n",
       "      <th>max</th>\n",
       "      <td>1.345435e+07</td>\n",
       "      <td>10.000000</td>\n",
       "      <td>10.000000</td>\n",
       "      <td>10.000000</td>\n",
       "      <td>10.000000</td>\n",
       "      <td>10.000000</td>\n",
       "      <td>10.000000</td>\n",
       "      <td>10.000000</td>\n",
       "      <td>10.000000</td>\n",
       "      <td>10.000000</td>\n",
       "      <td>4.000000</td>\n",
       "    </tr>\n",
       "  </tbody>\n",
       "</table>\n",
       "</div>"
      ],
      "text/plain": [
       "       Sample code number  Clump thickness  Uniformity of cell cize  \\\n",
       "count        6.990000e+02       699.000000               699.000000   \n",
       "mean         1.071704e+06         4.417740                 3.134478   \n",
       "std          6.170957e+05         2.815741                 3.051459   \n",
       "min          6.163400e+04         1.000000                 1.000000   \n",
       "25%          8.706885e+05         2.000000                 1.000000   \n",
       "50%          1.171710e+06         4.000000                 1.000000   \n",
       "75%          1.238298e+06         6.000000                 5.000000   \n",
       "max          1.345435e+07        10.000000                10.000000   \n",
       "\n",
       "       Uniformity of cell shape  Marginal adhesion  \\\n",
       "count                699.000000         699.000000   \n",
       "mean                   3.207439           2.806867   \n",
       "std                    2.971913           2.855379   \n",
       "min                    1.000000           1.000000   \n",
       "25%                    1.000000           1.000000   \n",
       "50%                    1.000000           1.000000   \n",
       "75%                    5.000000           4.000000   \n",
       "max                   10.000000          10.000000   \n",
       "\n",
       "       Single epithelial cell size  Bare nuclei  Bland chromatin  \\\n",
       "count                   699.000000   683.000000       699.000000   \n",
       "mean                      3.216023     3.544656         3.437768   \n",
       "std                       2.214300     3.643857         2.438364   \n",
       "min                       1.000000     1.000000         1.000000   \n",
       "25%                       2.000000     1.000000         2.000000   \n",
       "50%                       2.000000     1.000000         3.000000   \n",
       "75%                       4.000000     6.000000         5.000000   \n",
       "max                      10.000000    10.000000        10.000000   \n",
       "\n",
       "       Normal nucleoli     Mitoses       Class  \n",
       "count       699.000000  699.000000  699.000000  \n",
       "mean          2.866953    1.589413    2.689557  \n",
       "std           3.053634    1.715078    0.951273  \n",
       "min           1.000000    1.000000    2.000000  \n",
       "25%           1.000000    1.000000    2.000000  \n",
       "50%           1.000000    1.000000    2.000000  \n",
       "75%           4.000000    1.000000    4.000000  \n",
       "max          10.000000   10.000000    4.000000  "
      ]
     },
     "execution_count": 6,
     "metadata": {},
     "output_type": "execute_result"
    }
   ],
   "source": [
    "data.describe()"
   ]
  },
  {
   "cell_type": "code",
   "execution_count": 7,
   "id": "8ebb3235",
   "metadata": {},
   "outputs": [],
   "source": [
    "#Delete rows that contain missing values.we have 16 missing values\n",
    "new_data=data.dropna()"
   ]
  },
  {
   "cell_type": "code",
   "execution_count": 8,
   "id": "578977d7",
   "metadata": {},
   "outputs": [
    {
     "data": {
      "text/html": [
       "<div>\n",
       "<style scoped>\n",
       "    .dataframe tbody tr th:only-of-type {\n",
       "        vertical-align: middle;\n",
       "    }\n",
       "\n",
       "    .dataframe tbody tr th {\n",
       "        vertical-align: top;\n",
       "    }\n",
       "\n",
       "    .dataframe thead th {\n",
       "        text-align: right;\n",
       "    }\n",
       "</style>\n",
       "<table border=\"1\" class=\"dataframe\">\n",
       "  <thead>\n",
       "    <tr style=\"text-align: right;\">\n",
       "      <th></th>\n",
       "      <th>Sample code number</th>\n",
       "      <th>Clump thickness</th>\n",
       "      <th>Uniformity of cell cize</th>\n",
       "      <th>Uniformity of cell shape</th>\n",
       "      <th>Marginal adhesion</th>\n",
       "      <th>Single epithelial cell size</th>\n",
       "      <th>Bare nuclei</th>\n",
       "      <th>Bland chromatin</th>\n",
       "      <th>Normal nucleoli</th>\n",
       "      <th>Mitoses</th>\n",
       "      <th>Class</th>\n",
       "    </tr>\n",
       "  </thead>\n",
       "  <tbody>\n",
       "    <tr>\n",
       "      <th>0</th>\n",
       "      <td>1000025</td>\n",
       "      <td>5</td>\n",
       "      <td>1</td>\n",
       "      <td>1</td>\n",
       "      <td>1</td>\n",
       "      <td>2</td>\n",
       "      <td>1.0</td>\n",
       "      <td>3</td>\n",
       "      <td>1</td>\n",
       "      <td>1</td>\n",
       "      <td>2</td>\n",
       "    </tr>\n",
       "    <tr>\n",
       "      <th>1</th>\n",
       "      <td>1002945</td>\n",
       "      <td>5</td>\n",
       "      <td>4</td>\n",
       "      <td>4</td>\n",
       "      <td>5</td>\n",
       "      <td>7</td>\n",
       "      <td>10.0</td>\n",
       "      <td>3</td>\n",
       "      <td>2</td>\n",
       "      <td>1</td>\n",
       "      <td>2</td>\n",
       "    </tr>\n",
       "    <tr>\n",
       "      <th>2</th>\n",
       "      <td>1015425</td>\n",
       "      <td>3</td>\n",
       "      <td>1</td>\n",
       "      <td>1</td>\n",
       "      <td>1</td>\n",
       "      <td>2</td>\n",
       "      <td>2.0</td>\n",
       "      <td>3</td>\n",
       "      <td>1</td>\n",
       "      <td>1</td>\n",
       "      <td>2</td>\n",
       "    </tr>\n",
       "    <tr>\n",
       "      <th>3</th>\n",
       "      <td>1016277</td>\n",
       "      <td>6</td>\n",
       "      <td>8</td>\n",
       "      <td>8</td>\n",
       "      <td>1</td>\n",
       "      <td>3</td>\n",
       "      <td>4.0</td>\n",
       "      <td>3</td>\n",
       "      <td>7</td>\n",
       "      <td>1</td>\n",
       "      <td>2</td>\n",
       "    </tr>\n",
       "    <tr>\n",
       "      <th>4</th>\n",
       "      <td>1017023</td>\n",
       "      <td>4</td>\n",
       "      <td>1</td>\n",
       "      <td>1</td>\n",
       "      <td>3</td>\n",
       "      <td>2</td>\n",
       "      <td>1.0</td>\n",
       "      <td>3</td>\n",
       "      <td>1</td>\n",
       "      <td>1</td>\n",
       "      <td>2</td>\n",
       "    </tr>\n",
       "    <tr>\n",
       "      <th>...</th>\n",
       "      <td>...</td>\n",
       "      <td>...</td>\n",
       "      <td>...</td>\n",
       "      <td>...</td>\n",
       "      <td>...</td>\n",
       "      <td>...</td>\n",
       "      <td>...</td>\n",
       "      <td>...</td>\n",
       "      <td>...</td>\n",
       "      <td>...</td>\n",
       "      <td>...</td>\n",
       "    </tr>\n",
       "    <tr>\n",
       "      <th>694</th>\n",
       "      <td>776715</td>\n",
       "      <td>3</td>\n",
       "      <td>1</td>\n",
       "      <td>1</td>\n",
       "      <td>1</td>\n",
       "      <td>3</td>\n",
       "      <td>2.0</td>\n",
       "      <td>1</td>\n",
       "      <td>1</td>\n",
       "      <td>1</td>\n",
       "      <td>2</td>\n",
       "    </tr>\n",
       "    <tr>\n",
       "      <th>695</th>\n",
       "      <td>841769</td>\n",
       "      <td>2</td>\n",
       "      <td>1</td>\n",
       "      <td>1</td>\n",
       "      <td>1</td>\n",
       "      <td>2</td>\n",
       "      <td>1.0</td>\n",
       "      <td>1</td>\n",
       "      <td>1</td>\n",
       "      <td>1</td>\n",
       "      <td>2</td>\n",
       "    </tr>\n",
       "    <tr>\n",
       "      <th>696</th>\n",
       "      <td>888820</td>\n",
       "      <td>5</td>\n",
       "      <td>10</td>\n",
       "      <td>10</td>\n",
       "      <td>3</td>\n",
       "      <td>7</td>\n",
       "      <td>3.0</td>\n",
       "      <td>8</td>\n",
       "      <td>10</td>\n",
       "      <td>2</td>\n",
       "      <td>4</td>\n",
       "    </tr>\n",
       "    <tr>\n",
       "      <th>697</th>\n",
       "      <td>897471</td>\n",
       "      <td>4</td>\n",
       "      <td>8</td>\n",
       "      <td>6</td>\n",
       "      <td>4</td>\n",
       "      <td>3</td>\n",
       "      <td>4.0</td>\n",
       "      <td>10</td>\n",
       "      <td>6</td>\n",
       "      <td>1</td>\n",
       "      <td>4</td>\n",
       "    </tr>\n",
       "    <tr>\n",
       "      <th>698</th>\n",
       "      <td>897471</td>\n",
       "      <td>4</td>\n",
       "      <td>8</td>\n",
       "      <td>8</td>\n",
       "      <td>5</td>\n",
       "      <td>4</td>\n",
       "      <td>5.0</td>\n",
       "      <td>10</td>\n",
       "      <td>4</td>\n",
       "      <td>1</td>\n",
       "      <td>4</td>\n",
       "    </tr>\n",
       "  </tbody>\n",
       "</table>\n",
       "<p>683 rows × 11 columns</p>\n",
       "</div>"
      ],
      "text/plain": [
       "     Sample code number  Clump thickness  Uniformity of cell cize  \\\n",
       "0               1000025                5                        1   \n",
       "1               1002945                5                        4   \n",
       "2               1015425                3                        1   \n",
       "3               1016277                6                        8   \n",
       "4               1017023                4                        1   \n",
       "..                  ...              ...                      ...   \n",
       "694              776715                3                        1   \n",
       "695              841769                2                        1   \n",
       "696              888820                5                       10   \n",
       "697              897471                4                        8   \n",
       "698              897471                4                        8   \n",
       "\n",
       "     Uniformity of cell shape  Marginal adhesion  Single epithelial cell size  \\\n",
       "0                           1                  1                            2   \n",
       "1                           4                  5                            7   \n",
       "2                           1                  1                            2   \n",
       "3                           8                  1                            3   \n",
       "4                           1                  3                            2   \n",
       "..                        ...                ...                          ...   \n",
       "694                         1                  1                            3   \n",
       "695                         1                  1                            2   \n",
       "696                        10                  3                            7   \n",
       "697                         6                  4                            3   \n",
       "698                         8                  5                            4   \n",
       "\n",
       "     Bare nuclei  Bland chromatin  Normal nucleoli  Mitoses  Class  \n",
       "0            1.0                3                1        1      2  \n",
       "1           10.0                3                2        1      2  \n",
       "2            2.0                3                1        1      2  \n",
       "3            4.0                3                7        1      2  \n",
       "4            1.0                3                1        1      2  \n",
       "..           ...              ...              ...      ...    ...  \n",
       "694          2.0                1                1        1      2  \n",
       "695          1.0                1                1        1      2  \n",
       "696          3.0                8               10        2      4  \n",
       "697          4.0               10                6        1      4  \n",
       "698          5.0               10                4        1      4  \n",
       "\n",
       "[683 rows x 11 columns]"
      ]
     },
     "execution_count": 8,
     "metadata": {},
     "output_type": "execute_result"
    }
   ],
   "source": [
    "new_data"
   ]
  },
  {
   "cell_type": "code",
   "execution_count": 9,
   "id": "fac636c6",
   "metadata": {
    "scrolled": false
   },
   "outputs": [
    {
     "data": {
      "text/html": [
       "<div>\n",
       "<style scoped>\n",
       "    .dataframe tbody tr th:only-of-type {\n",
       "        vertical-align: middle;\n",
       "    }\n",
       "\n",
       "    .dataframe tbody tr th {\n",
       "        vertical-align: top;\n",
       "    }\n",
       "\n",
       "    .dataframe thead th {\n",
       "        text-align: right;\n",
       "    }\n",
       "</style>\n",
       "<table border=\"1\" class=\"dataframe\">\n",
       "  <thead>\n",
       "    <tr style=\"text-align: right;\">\n",
       "      <th></th>\n",
       "      <th>Sample code number</th>\n",
       "      <th>Clump thickness</th>\n",
       "      <th>Uniformity of cell cize</th>\n",
       "      <th>Uniformity of cell shape</th>\n",
       "      <th>Marginal adhesion</th>\n",
       "      <th>Single epithelial cell size</th>\n",
       "      <th>Bare nuclei</th>\n",
       "      <th>Bland chromatin</th>\n",
       "      <th>Normal nucleoli</th>\n",
       "      <th>Mitoses</th>\n",
       "      <th>Class</th>\n",
       "    </tr>\n",
       "  </thead>\n",
       "  <tbody>\n",
       "    <tr>\n",
       "      <th>count</th>\n",
       "      <td>6.830000e+02</td>\n",
       "      <td>683.000000</td>\n",
       "      <td>683.000000</td>\n",
       "      <td>683.000000</td>\n",
       "      <td>683.000000</td>\n",
       "      <td>683.000000</td>\n",
       "      <td>683.000000</td>\n",
       "      <td>683.000000</td>\n",
       "      <td>683.000000</td>\n",
       "      <td>683.000000</td>\n",
       "      <td>683.000000</td>\n",
       "    </tr>\n",
       "    <tr>\n",
       "      <th>mean</th>\n",
       "      <td>1.076720e+06</td>\n",
       "      <td>4.442167</td>\n",
       "      <td>3.150805</td>\n",
       "      <td>3.215227</td>\n",
       "      <td>2.830161</td>\n",
       "      <td>3.234261</td>\n",
       "      <td>3.544656</td>\n",
       "      <td>3.445095</td>\n",
       "      <td>2.869693</td>\n",
       "      <td>1.603221</td>\n",
       "      <td>2.699854</td>\n",
       "    </tr>\n",
       "    <tr>\n",
       "      <th>std</th>\n",
       "      <td>6.206440e+05</td>\n",
       "      <td>2.820761</td>\n",
       "      <td>3.065145</td>\n",
       "      <td>2.988581</td>\n",
       "      <td>2.864562</td>\n",
       "      <td>2.223085</td>\n",
       "      <td>3.643857</td>\n",
       "      <td>2.449697</td>\n",
       "      <td>3.052666</td>\n",
       "      <td>1.732674</td>\n",
       "      <td>0.954592</td>\n",
       "    </tr>\n",
       "    <tr>\n",
       "      <th>min</th>\n",
       "      <td>6.337500e+04</td>\n",
       "      <td>1.000000</td>\n",
       "      <td>1.000000</td>\n",
       "      <td>1.000000</td>\n",
       "      <td>1.000000</td>\n",
       "      <td>1.000000</td>\n",
       "      <td>1.000000</td>\n",
       "      <td>1.000000</td>\n",
       "      <td>1.000000</td>\n",
       "      <td>1.000000</td>\n",
       "      <td>2.000000</td>\n",
       "    </tr>\n",
       "    <tr>\n",
       "      <th>25%</th>\n",
       "      <td>8.776170e+05</td>\n",
       "      <td>2.000000</td>\n",
       "      <td>1.000000</td>\n",
       "      <td>1.000000</td>\n",
       "      <td>1.000000</td>\n",
       "      <td>2.000000</td>\n",
       "      <td>1.000000</td>\n",
       "      <td>2.000000</td>\n",
       "      <td>1.000000</td>\n",
       "      <td>1.000000</td>\n",
       "      <td>2.000000</td>\n",
       "    </tr>\n",
       "    <tr>\n",
       "      <th>50%</th>\n",
       "      <td>1.171795e+06</td>\n",
       "      <td>4.000000</td>\n",
       "      <td>1.000000</td>\n",
       "      <td>1.000000</td>\n",
       "      <td>1.000000</td>\n",
       "      <td>2.000000</td>\n",
       "      <td>1.000000</td>\n",
       "      <td>3.000000</td>\n",
       "      <td>1.000000</td>\n",
       "      <td>1.000000</td>\n",
       "      <td>2.000000</td>\n",
       "    </tr>\n",
       "    <tr>\n",
       "      <th>75%</th>\n",
       "      <td>1.238705e+06</td>\n",
       "      <td>6.000000</td>\n",
       "      <td>5.000000</td>\n",
       "      <td>5.000000</td>\n",
       "      <td>4.000000</td>\n",
       "      <td>4.000000</td>\n",
       "      <td>6.000000</td>\n",
       "      <td>5.000000</td>\n",
       "      <td>4.000000</td>\n",
       "      <td>1.000000</td>\n",
       "      <td>4.000000</td>\n",
       "    </tr>\n",
       "    <tr>\n",
       "      <th>max</th>\n",
       "      <td>1.345435e+07</td>\n",
       "      <td>10.000000</td>\n",
       "      <td>10.000000</td>\n",
       "      <td>10.000000</td>\n",
       "      <td>10.000000</td>\n",
       "      <td>10.000000</td>\n",
       "      <td>10.000000</td>\n",
       "      <td>10.000000</td>\n",
       "      <td>10.000000</td>\n",
       "      <td>10.000000</td>\n",
       "      <td>4.000000</td>\n",
       "    </tr>\n",
       "  </tbody>\n",
       "</table>\n",
       "</div>"
      ],
      "text/plain": [
       "       Sample code number  Clump thickness  Uniformity of cell cize  \\\n",
       "count        6.830000e+02       683.000000               683.000000   \n",
       "mean         1.076720e+06         4.442167                 3.150805   \n",
       "std          6.206440e+05         2.820761                 3.065145   \n",
       "min          6.337500e+04         1.000000                 1.000000   \n",
       "25%          8.776170e+05         2.000000                 1.000000   \n",
       "50%          1.171795e+06         4.000000                 1.000000   \n",
       "75%          1.238705e+06         6.000000                 5.000000   \n",
       "max          1.345435e+07        10.000000                10.000000   \n",
       "\n",
       "       Uniformity of cell shape  Marginal adhesion  \\\n",
       "count                683.000000         683.000000   \n",
       "mean                   3.215227           2.830161   \n",
       "std                    2.988581           2.864562   \n",
       "min                    1.000000           1.000000   \n",
       "25%                    1.000000           1.000000   \n",
       "50%                    1.000000           1.000000   \n",
       "75%                    5.000000           4.000000   \n",
       "max                   10.000000          10.000000   \n",
       "\n",
       "       Single epithelial cell size  Bare nuclei  Bland chromatin  \\\n",
       "count                   683.000000   683.000000       683.000000   \n",
       "mean                      3.234261     3.544656         3.445095   \n",
       "std                       2.223085     3.643857         2.449697   \n",
       "min                       1.000000     1.000000         1.000000   \n",
       "25%                       2.000000     1.000000         2.000000   \n",
       "50%                       2.000000     1.000000         3.000000   \n",
       "75%                       4.000000     6.000000         5.000000   \n",
       "max                      10.000000    10.000000        10.000000   \n",
       "\n",
       "       Normal nucleoli     Mitoses       Class  \n",
       "count       683.000000  683.000000  683.000000  \n",
       "mean          2.869693    1.603221    2.699854  \n",
       "std           3.052666    1.732674    0.954592  \n",
       "min           1.000000    1.000000    2.000000  \n",
       "25%           1.000000    1.000000    2.000000  \n",
       "50%           1.000000    1.000000    2.000000  \n",
       "75%           4.000000    1.000000    4.000000  \n",
       "max          10.000000   10.000000    4.000000  "
      ]
     },
     "execution_count": 9,
     "metadata": {},
     "output_type": "execute_result"
    }
   ],
   "source": [
    "new_data.describe()"
   ]
  },
  {
   "cell_type": "code",
   "execution_count": 10,
   "id": "4e30d5bb",
   "metadata": {},
   "outputs": [
    {
     "data": {
      "text/plain": [
       "['Sample code number',\n",
       " 'Clump thickness',\n",
       " 'Uniformity of cell cize',\n",
       " 'Uniformity of cell shape',\n",
       " 'Marginal adhesion',\n",
       " 'Single epithelial cell size',\n",
       " 'Bare nuclei',\n",
       " 'Bland chromatin',\n",
       " 'Normal nucleoli',\n",
       " 'Mitoses',\n",
       " 'Class']"
      ]
     },
     "execution_count": 10,
     "metadata": {},
     "output_type": "execute_result"
    }
   ],
   "source": [
    "#Storage of column names of our dataframe because we will use it later.la method to list to have a list\n",
    "features=new_data.columns.tolist()\n",
    "features"
   ]
  },
  {
   "cell_type": "markdown",
   "id": "d63a3f36",
   "metadata": {},
   "source": [
    "###   Principal Component Analysis (PCA)"
   ]
  },
  {
   "cell_type": "markdown",
   "id": "33bda395",
   "metadata": {},
   "source": [
    "##### a) Linear PCA"
   ]
  },
  {
   "cell_type": "markdown",
   "id": "0174aaa5",
   "metadata": {},
   "source": [
    "We will reduce the dimention of our data frame to two main components in order to be able to visualize the results in a 2D plane. Let's start by removing the variable \"Sample code number\" which is not numeric."
   ]
  },
  {
   "cell_type": "code",
   "execution_count": 11,
   "id": "fe25bccc",
   "metadata": {},
   "outputs": [
    {
     "data": {
      "text/html": [
       "<div>\n",
       "<style scoped>\n",
       "    .dataframe tbody tr th:only-of-type {\n",
       "        vertical-align: middle;\n",
       "    }\n",
       "\n",
       "    .dataframe tbody tr th {\n",
       "        vertical-align: top;\n",
       "    }\n",
       "\n",
       "    .dataframe thead th {\n",
       "        text-align: right;\n",
       "    }\n",
       "</style>\n",
       "<table border=\"1\" class=\"dataframe\">\n",
       "  <thead>\n",
       "    <tr style=\"text-align: right;\">\n",
       "      <th></th>\n",
       "      <th>Clump thickness</th>\n",
       "      <th>Uniformity of cell cize</th>\n",
       "      <th>Uniformity of cell shape</th>\n",
       "      <th>Marginal adhesion</th>\n",
       "      <th>Single epithelial cell size</th>\n",
       "      <th>Bare nuclei</th>\n",
       "      <th>Bland chromatin</th>\n",
       "      <th>Normal nucleoli</th>\n",
       "      <th>Mitoses</th>\n",
       "      <th>Class</th>\n",
       "    </tr>\n",
       "  </thead>\n",
       "  <tbody>\n",
       "    <tr>\n",
       "      <th>0</th>\n",
       "      <td>5</td>\n",
       "      <td>1</td>\n",
       "      <td>1</td>\n",
       "      <td>1</td>\n",
       "      <td>2</td>\n",
       "      <td>1.0</td>\n",
       "      <td>3</td>\n",
       "      <td>1</td>\n",
       "      <td>1</td>\n",
       "      <td>2</td>\n",
       "    </tr>\n",
       "    <tr>\n",
       "      <th>1</th>\n",
       "      <td>5</td>\n",
       "      <td>4</td>\n",
       "      <td>4</td>\n",
       "      <td>5</td>\n",
       "      <td>7</td>\n",
       "      <td>10.0</td>\n",
       "      <td>3</td>\n",
       "      <td>2</td>\n",
       "      <td>1</td>\n",
       "      <td>2</td>\n",
       "    </tr>\n",
       "    <tr>\n",
       "      <th>2</th>\n",
       "      <td>3</td>\n",
       "      <td>1</td>\n",
       "      <td>1</td>\n",
       "      <td>1</td>\n",
       "      <td>2</td>\n",
       "      <td>2.0</td>\n",
       "      <td>3</td>\n",
       "      <td>1</td>\n",
       "      <td>1</td>\n",
       "      <td>2</td>\n",
       "    </tr>\n",
       "    <tr>\n",
       "      <th>3</th>\n",
       "      <td>6</td>\n",
       "      <td>8</td>\n",
       "      <td>8</td>\n",
       "      <td>1</td>\n",
       "      <td>3</td>\n",
       "      <td>4.0</td>\n",
       "      <td>3</td>\n",
       "      <td>7</td>\n",
       "      <td>1</td>\n",
       "      <td>2</td>\n",
       "    </tr>\n",
       "    <tr>\n",
       "      <th>4</th>\n",
       "      <td>4</td>\n",
       "      <td>1</td>\n",
       "      <td>1</td>\n",
       "      <td>3</td>\n",
       "      <td>2</td>\n",
       "      <td>1.0</td>\n",
       "      <td>3</td>\n",
       "      <td>1</td>\n",
       "      <td>1</td>\n",
       "      <td>2</td>\n",
       "    </tr>\n",
       "  </tbody>\n",
       "</table>\n",
       "</div>"
      ],
      "text/plain": [
       "   Clump thickness  Uniformity of cell cize  Uniformity of cell shape  \\\n",
       "0                5                        1                         1   \n",
       "1                5                        4                         4   \n",
       "2                3                        1                         1   \n",
       "3                6                        8                         8   \n",
       "4                4                        1                         1   \n",
       "\n",
       "   Marginal adhesion  Single epithelial cell size  Bare nuclei  \\\n",
       "0                  1                            2          1.0   \n",
       "1                  5                            7         10.0   \n",
       "2                  1                            2          2.0   \n",
       "3                  1                            3          4.0   \n",
       "4                  3                            2          1.0   \n",
       "\n",
       "   Bland chromatin  Normal nucleoli  Mitoses  Class  \n",
       "0                3                1        1      2  \n",
       "1                3                2        1      2  \n",
       "2                3                1        1      2  \n",
       "3                3                7        1      2  \n",
       "4                3                1        1      2  "
      ]
     },
     "execution_count": 11,
     "metadata": {},
     "output_type": "execute_result"
    }
   ],
   "source": [
    "data2=new_data.drop('Sample code number',axis=1)\n",
    "data2.head()"
   ]
  },
  {
   "cell_type": "code",
   "execution_count": 12,
   "id": "5015398c",
   "metadata": {},
   "outputs": [
    {
     "data": {
      "text/plain": [
       "numpy.ndarray"
      ]
     },
     "execution_count": 12,
     "metadata": {},
     "output_type": "execute_result"
    }
   ],
   "source": [
    "#PCA needs to standardize the data we need to put it on the same scale\n",
    "scaler=StandardScaler()\n",
    "data2=scaler.fit_transform(data2)\n",
    "type(data2)"
   ]
  },
  {
   "cell_type": "code",
   "execution_count": 13,
   "id": "54d24f5b",
   "metadata": {},
   "outputs": [
    {
     "data": {
      "text/plain": [
       "array([[ 0.19790469, -0.70221201, -0.74177362, ..., -0.61292736,\n",
       "        -0.34839971, -0.73368133],\n",
       "       [ 0.19790469,  0.27725185,  0.26278299, ..., -0.28510482,\n",
       "        -0.34839971, -0.73368133],\n",
       "       [-0.51164337, -0.70221201, -0.74177362, ..., -0.61292736,\n",
       "        -0.34839971, -0.73368133],\n",
       "       ...,\n",
       "       [ 0.19790469,  2.23617957,  2.2718962 , ...,  2.33747554,\n",
       "         0.22916583,  1.36298958],\n",
       "       [-0.15686934,  1.58320366,  0.93248739, ...,  1.02618536,\n",
       "        -0.34839971,  1.36298958],\n",
       "       [-0.15686934,  1.58320366,  1.6021918 , ...,  0.37054027,\n",
       "        -0.34839971,  1.36298958]])"
      ]
     },
     "execution_count": 13,
     "metadata": {},
     "output_type": "execute_result"
    }
   ],
   "source": [
    "data2"
   ]
  },
  {
   "cell_type": "code",
   "execution_count": 14,
   "id": "7775a5af",
   "metadata": {},
   "outputs": [
    {
     "data": {
      "text/plain": [
       "numpy.ndarray"
      ]
     },
     "execution_count": 14,
     "metadata": {},
     "output_type": "execute_result"
    }
   ],
   "source": [
    "#apply the PCA to four components\n",
    "pca=PCA(n_components=2)\n",
    "res_pca=pca.fit_transform(data2)\n",
    "type(res_pca)"
   ]
  },
  {
   "cell_type": "code",
   "execution_count": 15,
   "id": "c84a44e8",
   "metadata": {},
   "outputs": [
    {
     "data": {
      "text/plain": [
       "array([[-1.63333457, -0.10118309],\n",
       "       [ 1.09275267, -0.3679174 ],\n",
       "       [-1.74849505, -0.06840633],\n",
       "       ...,\n",
       "       [ 4.0177012 , -0.02068081],\n",
       "       [ 2.57900007, -1.0797101 ],\n",
       "       [ 2.94612892, -1.14528796]])"
      ]
     },
     "execution_count": 15,
     "metadata": {},
     "output_type": "execute_result"
    }
   ],
   "source": [
    "#print result\n",
    "res_pca"
   ]
  },
  {
   "cell_type": "code",
   "execution_count": 16,
   "id": "5eb54697",
   "metadata": {},
   "outputs": [
    {
     "data": {
      "image/png": "[encoded data removed]",
      "text/plain": [
       "<Figure size 800x550 with 1 Axes>"
      ]
     },
     "metadata": {},
     "output_type": "display_data"
    }
   ],
   "source": [
    "#Visualization of the main components\n",
    "plt.scatter(res_pca[:,0],res_pca[:,1])\n",
    "plt.xlabel(\"Component 1\")\n",
    "plt.ylabel(\"Component 2\")\n",
    "plt.title(\"PC1 vs PC2\")\n",
    "plt.show()\n"
   ]
  },
  {
   "cell_type": "code",
   "execution_count": 17,
   "id": "086c7887",
   "metadata": {},
   "outputs": [
    {
     "data": {
      "text/plain": [
       "PearsonRResult(statistic=-2.719179048593645e-16, pvalue=1.000000000000795)"
      ]
     },
     "execution_count": 17,
     "metadata": {},
     "output_type": "execute_result"
    }
   ],
   "source": [
    "#Pearson correlation coefficient obtained after PCA\n",
    "pearsonr(res_pca[:,0],res_pca[:,1])"
   ]
  },
  {
   "cell_type": "markdown",
   "id": "0293f80b",
   "metadata": {},
   "source": [
    "#### b)No lenear PCA"
   ]
  },
  {
   "cell_type": "code",
   "execution_count": 18,
   "id": "e1da9eb6",
   "metadata": {},
   "outputs": [
    {
     "data": {
      "text/plain": [
       "array([[-0.3430763 ,  0.25011728],\n",
       "       [ 0.42676024,  0.16046444],\n",
       "       [-0.39446781,  0.02521316],\n",
       "       ...,\n",
       "       [ 0.66117913, -0.21886057],\n",
       "       [ 0.64130665, -0.04887289],\n",
       "       [ 0.67467399, -0.08350293]])"
      ]
     },
     "execution_count": 18,
     "metadata": {},
     "output_type": "execute_result"
    }
   ],
   "source": [
    "kpca=KernelPCA(n_components=2, kernel='rbf')\n",
    "res_kpca=kpca.fit_transform(data2)\n",
    "res_kpca"
   ]
  },
  {
   "cell_type": "code",
   "execution_count": 19,
   "id": "10798084",
   "metadata": {},
   "outputs": [
    {
     "data": {
      "image/png": "[encoded data removed]",
      "text/plain": [
       "<Figure size 800x550 with 1 Axes>"
      ]
     },
     "metadata": {},
     "output_type": "display_data"
    }
   ],
   "source": [
    "#Visualization of the main components\n",
    "plt.scatter(res_kpca[:,0],res_kpca[:,1])\n",
    "plt.xlabel(\"Component 1\")\n",
    "plt.ylabel(\"Component 2\")\n",
    "plt.title(\"PC1 vs PC2\")\n",
    "plt.show()"
   ]
  },
  {
   "cell_type": "markdown",
   "id": "161b5915",
   "metadata": {},
   "source": [
    "**We see that non-linear PCA gives a better result. We will use it in the rest of the work**"
   ]
  },
  {
   "cell_type": "markdown",
   "id": "1fe99bc9",
   "metadata": {},
   "source": [
    "### Clustering with k-means with k = 2"
   ]
  },
  {
   "cell_type": "code",
   "execution_count": 20,
   "id": "cb7695ca",
   "metadata": {},
   "outputs": [],
   "source": [
    "cluster_model=KMeans(n_clusters=2)\n",
    "cluster_model.fit(res_kpca)\n",
    "clusters=cluster_model.predict(res_kpca)"
   ]
  },
  {
   "cell_type": "code",
   "execution_count": 21,
   "id": "3c302876",
   "metadata": {},
   "outputs": [
    {
     "data": {
      "text/plain": [
       "683"
      ]
     },
     "execution_count": 21,
     "metadata": {},
     "output_type": "execute_result"
    }
   ],
   "source": [
    "len(clusters)"
   ]
  },
  {
   "cell_type": "code",
   "execution_count": 22,
   "id": "9e2194e5",
   "metadata": {},
   "outputs": [
    {
     "data": {
      "text/plain": [
       "array([1, 0, 1, 0, 1, 0, 1, 1, 1, 1, 1, 1, 0, 1, 0, 0, 1, 1, 0, 1, 0, 0,\n",
       "       1, 1, 0, 1, 1, 1, 1, 1, 1, 0, 1, 1, 1, 0, 1, 0, 0, 0, 0, 0, 0, 1,\n",
       "       0, 1, 1, 0, 0, 0, 0, 0, 0, 0, 0, 0, 0, 0, 0, 1, 0, 0, 1, 0, 1, 0,\n",
       "       0, 1, 1, 0, 1, 0, 0, 1, 1, 1, 1, 1, 1, 1, 1, 1, 0, 0, 0, 0, 1, 1,\n",
       "       1, 1, 1, 1, 1, 1, 1, 1, 0, 0, 0, 0, 1, 0, 0, 0, 0, 0, 1, 0, 1, 0,\n",
       "       0, 0, 1, 1, 1, 0, 1, 1, 1, 1, 0, 0, 0, 1, 0, 1, 0, 0, 1, 1, 0, 1,\n",
       "       1, 1, 1, 1, 1, 1, 1, 0, 1, 1, 0, 1, 0, 0, 1, 0, 0, 1, 1, 0, 1, 1,\n",
       "       0, 0, 1, 1, 0, 1, 0, 0, 1, 1, 1, 1, 1, 0, 0, 0, 1, 0, 1, 0, 1, 1,\n",
       "       1, 0, 0, 1, 0, 0, 0, 1, 0, 0, 1, 1, 1, 1, 0, 1, 1, 1, 0, 0, 1, 1,\n",
       "       1, 0, 0, 1, 1, 1, 0, 0, 1, 0, 0, 0, 1, 1, 0, 1, 1, 0, 1, 0, 0, 1,\n",
       "       0, 0, 1, 0, 0, 0, 0, 0, 1, 0, 0, 0, 0, 1, 1, 1, 1, 1, 1, 0, 0, 1,\n",
       "       1, 0, 0, 0, 0, 0, 1, 1, 1, 0, 0, 0, 0, 0, 0, 1, 0, 0, 0, 1, 0, 1,\n",
       "       0, 0, 1, 1, 1, 1, 0, 1, 1, 0, 0, 0, 0, 0, 1, 0, 0, 1, 1, 0, 0, 0,\n",
       "       1, 0, 0, 1, 0, 1, 0, 0, 1, 1, 0, 1, 1, 1, 0, 1, 1, 0, 0, 1, 0, 0,\n",
       "       1, 0, 1, 1, 0, 1, 0, 0, 0, 1, 1, 0, 0, 1, 0, 1, 1, 0, 0, 1, 1, 1,\n",
       "       0, 1, 1, 1, 0, 0, 1, 1, 0, 0, 1, 1, 0, 0, 0, 0, 0, 0, 1, 1, 1, 1,\n",
       "       0, 0, 1, 1, 1, 1, 1, 1, 1, 1, 1, 1, 1, 1, 1, 0, 1, 1, 1, 1, 0, 1,\n",
       "       1, 1, 1, 0, 1, 1, 1, 1, 1, 1, 1, 1, 0, 1, 1, 1, 1, 1, 1, 1, 1, 1,\n",
       "       1, 0, 1, 0, 1, 0, 1, 1, 1, 1, 0, 1, 1, 1, 0, 1, 0, 1, 1, 1, 1, 1,\n",
       "       1, 0, 0, 0, 1, 1, 1, 0, 1, 1, 1, 1, 1, 1, 1, 1, 0, 1, 1, 1, 0, 1,\n",
       "       0, 0, 0, 1, 1, 1, 1, 1, 1, 1, 0, 0, 0, 1, 1, 1, 1, 1, 1, 1, 1, 1,\n",
       "       1, 1, 0, 1, 1, 0, 0, 1, 1, 1, 0, 0, 0, 1, 0, 1, 0, 0, 1, 1, 1, 1,\n",
       "       1, 1, 1, 1, 1, 1, 1, 0, 1, 1, 1, 1, 1, 1, 1, 0, 0, 1, 1, 1, 0, 1,\n",
       "       1, 0, 0, 1, 1, 1, 1, 1, 1, 0, 1, 1, 1, 1, 1, 1, 1, 1, 1, 1, 1, 1,\n",
       "       1, 1, 1, 0, 1, 1, 0, 1, 1, 1, 1, 1, 1, 1, 1, 1, 1, 1, 1, 1, 1, 1,\n",
       "       0, 1, 1, 0, 0, 0, 0, 1, 1, 0, 1, 1, 1, 1, 1, 1, 0, 0, 1, 1, 1, 0,\n",
       "       1, 0, 1, 0, 0, 0, 1, 0, 1, 1, 1, 1, 1, 1, 1, 1, 0, 0, 0, 1, 1, 0,\n",
       "       1, 0, 0, 0, 1, 1, 1, 1, 1, 1, 1, 1, 1, 1, 1, 1, 0, 1, 1, 1, 1, 1,\n",
       "       1, 0, 1, 1, 0, 1, 1, 1, 1, 1, 1, 1, 1, 1, 1, 1, 0, 1, 1, 1, 1, 1,\n",
       "       1, 1, 1, 0, 0, 1, 1, 1, 1, 1, 1, 1, 1, 1, 0, 0, 0, 1, 1, 1, 1, 1,\n",
       "       1, 1, 1, 1, 0, 0, 1, 1, 1, 1, 1, 1, 1, 0, 1, 0, 1, 1, 1, 1, 0, 0,\n",
       "       0])"
      ]
     },
     "execution_count": 22,
     "metadata": {},
     "output_type": "execute_result"
    }
   ],
   "source": [
    "#affichage des clusters\n",
    "clusters"
   ]
  },
  {
   "cell_type": "markdown",
   "id": "8269f062",
   "metadata": {},
   "source": [
    "we have  2 clusters "
   ]
  },
  {
   "cell_type": "code",
   "execution_count": 23,
   "id": "2bc1c5c0",
   "metadata": {},
   "outputs": [
    {
     "data": {
      "image/png": "[encoded data removed]",
      "text/plain": [
       "<Figure size 800x550 with 1 Axes>"
      ]
     },
     "metadata": {},
     "output_type": "display_data"
    }
   ],
   "source": [
    "\n",
    "#Revisualization of major components\n",
    "plt.scatter(res_kpca[:,0],res_kpca[:,1],c=clusters)\n",
    "plt.xlabel(\"Composante 1\")\n",
    "plt.ylabel(\"Composante 2\")\n",
    "plt.title(\"PC1 vs PC2\")\n",
    "plt.show()\n"
   ]
  },
  {
   "cell_type": "code",
   "execution_count": 24,
   "id": "6bfb8640",
   "metadata": {},
   "outputs": [
    {
     "name": "stderr",
     "output_type": "stream",
     "text": [
      "C:\\Users\\bc\\AppData\\Local\\Temp\\ipykernel_10784\\3941360712.py:2: SettingWithCopyWarning: \n",
      "A value is trying to be set on a copy of a slice from a DataFrame.\n",
      "Try using .loc[row_indexer,col_indexer] = value instead\n",
      "\n",
      "See the caveats in the documentation: https://pandas.pydata.org/pandas-docs/stable/user_guide/indexing.html#returning-a-view-versus-a-copy\n",
      "  new_data['cluster_pca']=clusters\n"
     ]
    }
   ],
   "source": [
    "#Let's back up clusters\n",
    "new_data['cluster_pca']=clusters\n",
    "new_data.to_csv('data_with_cluster.csv')"
   ]
  },
  {
   "cell_type": "code",
   "execution_count": 25,
   "id": "675f0621",
   "metadata": {},
   "outputs": [
    {
     "data": {
      "text/html": [
       "<div>\n",
       "<style scoped>\n",
       "    .dataframe tbody tr th:only-of-type {\n",
       "        vertical-align: middle;\n",
       "    }\n",
       "\n",
       "    .dataframe tbody tr th {\n",
       "        vertical-align: top;\n",
       "    }\n",
       "\n",
       "    .dataframe thead th {\n",
       "        text-align: right;\n",
       "    }\n",
       "</style>\n",
       "<table border=\"1\" class=\"dataframe\">\n",
       "  <thead>\n",
       "    <tr style=\"text-align: right;\">\n",
       "      <th></th>\n",
       "      <th>index</th>\n",
       "      <th>Sample code number</th>\n",
       "      <th>Clump thickness</th>\n",
       "      <th>Uniformity of cell cize</th>\n",
       "      <th>Uniformity of cell shape</th>\n",
       "      <th>Marginal adhesion</th>\n",
       "      <th>Single epithelial cell size</th>\n",
       "      <th>Bare nuclei</th>\n",
       "      <th>Bland chromatin</th>\n",
       "      <th>Normal nucleoli</th>\n",
       "      <th>Mitoses</th>\n",
       "      <th>Class</th>\n",
       "      <th>cluster_pca</th>\n",
       "    </tr>\n",
       "  </thead>\n",
       "  <tbody>\n",
       "    <tr>\n",
       "      <th>0</th>\n",
       "      <td>0</td>\n",
       "      <td>1000025</td>\n",
       "      <td>5</td>\n",
       "      <td>1</td>\n",
       "      <td>1</td>\n",
       "      <td>1</td>\n",
       "      <td>2</td>\n",
       "      <td>1.0</td>\n",
       "      <td>3</td>\n",
       "      <td>1</td>\n",
       "      <td>1</td>\n",
       "      <td>2</td>\n",
       "      <td>1</td>\n",
       "    </tr>\n",
       "    <tr>\n",
       "      <th>1</th>\n",
       "      <td>1</td>\n",
       "      <td>1002945</td>\n",
       "      <td>5</td>\n",
       "      <td>4</td>\n",
       "      <td>4</td>\n",
       "      <td>5</td>\n",
       "      <td>7</td>\n",
       "      <td>10.0</td>\n",
       "      <td>3</td>\n",
       "      <td>2</td>\n",
       "      <td>1</td>\n",
       "      <td>2</td>\n",
       "      <td>0</td>\n",
       "    </tr>\n",
       "    <tr>\n",
       "      <th>2</th>\n",
       "      <td>2</td>\n",
       "      <td>1015425</td>\n",
       "      <td>3</td>\n",
       "      <td>1</td>\n",
       "      <td>1</td>\n",
       "      <td>1</td>\n",
       "      <td>2</td>\n",
       "      <td>2.0</td>\n",
       "      <td>3</td>\n",
       "      <td>1</td>\n",
       "      <td>1</td>\n",
       "      <td>2</td>\n",
       "      <td>1</td>\n",
       "    </tr>\n",
       "    <tr>\n",
       "      <th>3</th>\n",
       "      <td>3</td>\n",
       "      <td>1016277</td>\n",
       "      <td>6</td>\n",
       "      <td>8</td>\n",
       "      <td>8</td>\n",
       "      <td>1</td>\n",
       "      <td>3</td>\n",
       "      <td>4.0</td>\n",
       "      <td>3</td>\n",
       "      <td>7</td>\n",
       "      <td>1</td>\n",
       "      <td>2</td>\n",
       "      <td>0</td>\n",
       "    </tr>\n",
       "    <tr>\n",
       "      <th>4</th>\n",
       "      <td>4</td>\n",
       "      <td>1017023</td>\n",
       "      <td>4</td>\n",
       "      <td>1</td>\n",
       "      <td>1</td>\n",
       "      <td>3</td>\n",
       "      <td>2</td>\n",
       "      <td>1.0</td>\n",
       "      <td>3</td>\n",
       "      <td>1</td>\n",
       "      <td>1</td>\n",
       "      <td>2</td>\n",
       "      <td>1</td>\n",
       "    </tr>\n",
       "    <tr>\n",
       "      <th>...</th>\n",
       "      <td>...</td>\n",
       "      <td>...</td>\n",
       "      <td>...</td>\n",
       "      <td>...</td>\n",
       "      <td>...</td>\n",
       "      <td>...</td>\n",
       "      <td>...</td>\n",
       "      <td>...</td>\n",
       "      <td>...</td>\n",
       "      <td>...</td>\n",
       "      <td>...</td>\n",
       "      <td>...</td>\n",
       "      <td>...</td>\n",
       "    </tr>\n",
       "    <tr>\n",
       "      <th>678</th>\n",
       "      <td>694</td>\n",
       "      <td>776715</td>\n",
       "      <td>3</td>\n",
       "      <td>1</td>\n",
       "      <td>1</td>\n",
       "      <td>1</td>\n",
       "      <td>3</td>\n",
       "      <td>2.0</td>\n",
       "      <td>1</td>\n",
       "      <td>1</td>\n",
       "      <td>1</td>\n",
       "      <td>2</td>\n",
       "      <td>1</td>\n",
       "    </tr>\n",
       "    <tr>\n",
       "      <th>679</th>\n",
       "      <td>695</td>\n",
       "      <td>841769</td>\n",
       "      <td>2</td>\n",
       "      <td>1</td>\n",
       "      <td>1</td>\n",
       "      <td>1</td>\n",
       "      <td>2</td>\n",
       "      <td>1.0</td>\n",
       "      <td>1</td>\n",
       "      <td>1</td>\n",
       "      <td>1</td>\n",
       "      <td>2</td>\n",
       "      <td>1</td>\n",
       "    </tr>\n",
       "    <tr>\n",
       "      <th>680</th>\n",
       "      <td>696</td>\n",
       "      <td>888820</td>\n",
       "      <td>5</td>\n",
       "      <td>10</td>\n",
       "      <td>10</td>\n",
       "      <td>3</td>\n",
       "      <td>7</td>\n",
       "      <td>3.0</td>\n",
       "      <td>8</td>\n",
       "      <td>10</td>\n",
       "      <td>2</td>\n",
       "      <td>4</td>\n",
       "      <td>0</td>\n",
       "    </tr>\n",
       "    <tr>\n",
       "      <th>681</th>\n",
       "      <td>697</td>\n",
       "      <td>897471</td>\n",
       "      <td>4</td>\n",
       "      <td>8</td>\n",
       "      <td>6</td>\n",
       "      <td>4</td>\n",
       "      <td>3</td>\n",
       "      <td>4.0</td>\n",
       "      <td>10</td>\n",
       "      <td>6</td>\n",
       "      <td>1</td>\n",
       "      <td>4</td>\n",
       "      <td>0</td>\n",
       "    </tr>\n",
       "    <tr>\n",
       "      <th>682</th>\n",
       "      <td>698</td>\n",
       "      <td>897471</td>\n",
       "      <td>4</td>\n",
       "      <td>8</td>\n",
       "      <td>8</td>\n",
       "      <td>5</td>\n",
       "      <td>4</td>\n",
       "      <td>5.0</td>\n",
       "      <td>10</td>\n",
       "      <td>4</td>\n",
       "      <td>1</td>\n",
       "      <td>4</td>\n",
       "      <td>0</td>\n",
       "    </tr>\n",
       "  </tbody>\n",
       "</table>\n",
       "<p>683 rows × 13 columns</p>\n",
       "</div>"
      ],
      "text/plain": [
       "     index  Sample code number  Clump thickness  Uniformity of cell cize  \\\n",
       "0        0             1000025                5                        1   \n",
       "1        1             1002945                5                        4   \n",
       "2        2             1015425                3                        1   \n",
       "3        3             1016277                6                        8   \n",
       "4        4             1017023                4                        1   \n",
       "..     ...                 ...              ...                      ...   \n",
       "678    694              776715                3                        1   \n",
       "679    695              841769                2                        1   \n",
       "680    696              888820                5                       10   \n",
       "681    697              897471                4                        8   \n",
       "682    698              897471                4                        8   \n",
       "\n",
       "     Uniformity of cell shape  Marginal adhesion  Single epithelial cell size  \\\n",
       "0                           1                  1                            2   \n",
       "1                           4                  5                            7   \n",
       "2                           1                  1                            2   \n",
       "3                           8                  1                            3   \n",
       "4                           1                  3                            2   \n",
       "..                        ...                ...                          ...   \n",
       "678                         1                  1                            3   \n",
       "679                         1                  1                            2   \n",
       "680                        10                  3                            7   \n",
       "681                         6                  4                            3   \n",
       "682                         8                  5                            4   \n",
       "\n",
       "     Bare nuclei  Bland chromatin  Normal nucleoli  Mitoses  Class  \\\n",
       "0            1.0                3                1        1      2   \n",
       "1           10.0                3                2        1      2   \n",
       "2            2.0                3                1        1      2   \n",
       "3            4.0                3                7        1      2   \n",
       "4            1.0                3                1        1      2   \n",
       "..           ...              ...              ...      ...    ...   \n",
       "678          2.0                1                1        1      2   \n",
       "679          1.0                1                1        1      2   \n",
       "680          3.0                8               10        2      4   \n",
       "681          4.0               10                6        1      4   \n",
       "682          5.0               10                4        1      4   \n",
       "\n",
       "     cluster_pca  \n",
       "0              1  \n",
       "1              0  \n",
       "2              1  \n",
       "3              0  \n",
       "4              1  \n",
       "..           ...  \n",
       "678            1  \n",
       "679            1  \n",
       "680            0  \n",
       "681            0  \n",
       "682            0  \n",
       "\n",
       "[683 rows x 13 columns]"
      ]
     },
     "execution_count": 25,
     "metadata": {},
     "output_type": "execute_result"
    }
   ],
   "source": [
    "new_data.reset_index(inplace=True)\n",
    "new_data"
   ]
  },
  {
   "cell_type": "markdown",
   "id": "7a20d6fb",
   "metadata": {},
   "source": [
    "##### Since clusters have been identified, they should be interpreted"
   ]
  },
  {
   "cell_type": "code",
   "execution_count": 26,
   "id": "d8ee5979",
   "metadata": {},
   "outputs": [],
   "source": [
    "#You can load the previously saved file\n",
    "dataframe=pd.read_csv('data_with_cluster.csv',index_col=0)"
   ]
  },
  {
   "cell_type": "code",
   "execution_count": 27,
   "id": "10c2c1e5",
   "metadata": {},
   "outputs": [
    {
     "data": {
      "text/html": [
       "<div>\n",
       "<style scoped>\n",
       "    .dataframe tbody tr th:only-of-type {\n",
       "        vertical-align: middle;\n",
       "    }\n",
       "\n",
       "    .dataframe tbody tr th {\n",
       "        vertical-align: top;\n",
       "    }\n",
       "\n",
       "    .dataframe thead th {\n",
       "        text-align: right;\n",
       "    }\n",
       "</style>\n",
       "<table border=\"1\" class=\"dataframe\">\n",
       "  <thead>\n",
       "    <tr style=\"text-align: right;\">\n",
       "      <th></th>\n",
       "      <th>Sample code number</th>\n",
       "      <th>Clump thickness</th>\n",
       "      <th>Uniformity of cell cize</th>\n",
       "      <th>Uniformity of cell shape</th>\n",
       "      <th>Marginal adhesion</th>\n",
       "      <th>Single epithelial cell size</th>\n",
       "      <th>Bare nuclei</th>\n",
       "      <th>Bland chromatin</th>\n",
       "      <th>Normal nucleoli</th>\n",
       "      <th>Mitoses</th>\n",
       "      <th>Class</th>\n",
       "      <th>cluster_pca</th>\n",
       "    </tr>\n",
       "  </thead>\n",
       "  <tbody>\n",
       "    <tr>\n",
       "      <th>0</th>\n",
       "      <td>1000025</td>\n",
       "      <td>5</td>\n",
       "      <td>1</td>\n",
       "      <td>1</td>\n",
       "      <td>1</td>\n",
       "      <td>2</td>\n",
       "      <td>1.0</td>\n",
       "      <td>3</td>\n",
       "      <td>1</td>\n",
       "      <td>1</td>\n",
       "      <td>2</td>\n",
       "      <td>1</td>\n",
       "    </tr>\n",
       "    <tr>\n",
       "      <th>1</th>\n",
       "      <td>1002945</td>\n",
       "      <td>5</td>\n",
       "      <td>4</td>\n",
       "      <td>4</td>\n",
       "      <td>5</td>\n",
       "      <td>7</td>\n",
       "      <td>10.0</td>\n",
       "      <td>3</td>\n",
       "      <td>2</td>\n",
       "      <td>1</td>\n",
       "      <td>2</td>\n",
       "      <td>0</td>\n",
       "    </tr>\n",
       "    <tr>\n",
       "      <th>2</th>\n",
       "      <td>1015425</td>\n",
       "      <td>3</td>\n",
       "      <td>1</td>\n",
       "      <td>1</td>\n",
       "      <td>1</td>\n",
       "      <td>2</td>\n",
       "      <td>2.0</td>\n",
       "      <td>3</td>\n",
       "      <td>1</td>\n",
       "      <td>1</td>\n",
       "      <td>2</td>\n",
       "      <td>1</td>\n",
       "    </tr>\n",
       "    <tr>\n",
       "      <th>3</th>\n",
       "      <td>1016277</td>\n",
       "      <td>6</td>\n",
       "      <td>8</td>\n",
       "      <td>8</td>\n",
       "      <td>1</td>\n",
       "      <td>3</td>\n",
       "      <td>4.0</td>\n",
       "      <td>3</td>\n",
       "      <td>7</td>\n",
       "      <td>1</td>\n",
       "      <td>2</td>\n",
       "      <td>0</td>\n",
       "    </tr>\n",
       "    <tr>\n",
       "      <th>4</th>\n",
       "      <td>1017023</td>\n",
       "      <td>4</td>\n",
       "      <td>1</td>\n",
       "      <td>1</td>\n",
       "      <td>3</td>\n",
       "      <td>2</td>\n",
       "      <td>1.0</td>\n",
       "      <td>3</td>\n",
       "      <td>1</td>\n",
       "      <td>1</td>\n",
       "      <td>2</td>\n",
       "      <td>1</td>\n",
       "    </tr>\n",
       "  </tbody>\n",
       "</table>\n",
       "</div>"
      ],
      "text/plain": [
       "   Sample code number  Clump thickness  Uniformity of cell cize  \\\n",
       "0             1000025                5                        1   \n",
       "1             1002945                5                        4   \n",
       "2             1015425                3                        1   \n",
       "3             1016277                6                        8   \n",
       "4             1017023                4                        1   \n",
       "\n",
       "   Uniformity of cell shape  Marginal adhesion  Single epithelial cell size  \\\n",
       "0                         1                  1                            2   \n",
       "1                         4                  5                            7   \n",
       "2                         1                  1                            2   \n",
       "3                         8                  1                            3   \n",
       "4                         1                  3                            2   \n",
       "\n",
       "   Bare nuclei  Bland chromatin  Normal nucleoli  Mitoses  Class  cluster_pca  \n",
       "0          1.0                3                1        1      2            1  \n",
       "1         10.0                3                2        1      2            0  \n",
       "2          2.0                3                1        1      2            1  \n",
       "3          4.0                3                7        1      2            0  \n",
       "4          1.0                3                1        1      2            1  "
      ]
     },
     "execution_count": 27,
     "metadata": {},
     "output_type": "execute_result"
    }
   ],
   "source": [
    "\n",
    "dataframe.head()"
   ]
  },
  {
   "cell_type": "code",
   "execution_count": null,
   "id": "af88742a",
   "metadata": {},
   "outputs": [],
   "source": []
  },
  {
   "cell_type": "code",
   "execution_count": 28,
   "id": "b1f55ac7",
   "metadata": {},
   "outputs": [
    {
     "data": {
      "text/html": [
       "<div>\n",
       "<style scoped>\n",
       "    .dataframe tbody tr th:only-of-type {\n",
       "        vertical-align: middle;\n",
       "    }\n",
       "\n",
       "    .dataframe tbody tr th {\n",
       "        vertical-align: top;\n",
       "    }\n",
       "\n",
       "    .dataframe thead th {\n",
       "        text-align: right;\n",
       "    }\n",
       "</style>\n",
       "<table border=\"1\" class=\"dataframe\">\n",
       "  <thead>\n",
       "    <tr style=\"text-align: right;\">\n",
       "      <th></th>\n",
       "      <th>Clump thickness</th>\n",
       "      <th>Uniformity of cell cize</th>\n",
       "      <th>Uniformity of cell shape</th>\n",
       "      <th>Marginal adhesion</th>\n",
       "      <th>Single epithelial cell size</th>\n",
       "      <th>Bare nuclei</th>\n",
       "      <th>Bland chromatin</th>\n",
       "      <th>Normal nucleoli</th>\n",
       "      <th>Mitoses</th>\n",
       "      <th>cluster_pca</th>\n",
       "    </tr>\n",
       "  </thead>\n",
       "  <tbody>\n",
       "    <tr>\n",
       "      <th>0</th>\n",
       "      <td>5</td>\n",
       "      <td>1</td>\n",
       "      <td>1</td>\n",
       "      <td>1</td>\n",
       "      <td>2</td>\n",
       "      <td>1.0</td>\n",
       "      <td>3</td>\n",
       "      <td>1</td>\n",
       "      <td>1</td>\n",
       "      <td>1</td>\n",
       "    </tr>\n",
       "    <tr>\n",
       "      <th>1</th>\n",
       "      <td>5</td>\n",
       "      <td>4</td>\n",
       "      <td>4</td>\n",
       "      <td>5</td>\n",
       "      <td>7</td>\n",
       "      <td>10.0</td>\n",
       "      <td>3</td>\n",
       "      <td>2</td>\n",
       "      <td>1</td>\n",
       "      <td>0</td>\n",
       "    </tr>\n",
       "    <tr>\n",
       "      <th>2</th>\n",
       "      <td>3</td>\n",
       "      <td>1</td>\n",
       "      <td>1</td>\n",
       "      <td>1</td>\n",
       "      <td>2</td>\n",
       "      <td>2.0</td>\n",
       "      <td>3</td>\n",
       "      <td>1</td>\n",
       "      <td>1</td>\n",
       "      <td>1</td>\n",
       "    </tr>\n",
       "    <tr>\n",
       "      <th>3</th>\n",
       "      <td>6</td>\n",
       "      <td>8</td>\n",
       "      <td>8</td>\n",
       "      <td>1</td>\n",
       "      <td>3</td>\n",
       "      <td>4.0</td>\n",
       "      <td>3</td>\n",
       "      <td>7</td>\n",
       "      <td>1</td>\n",
       "      <td>0</td>\n",
       "    </tr>\n",
       "    <tr>\n",
       "      <th>4</th>\n",
       "      <td>4</td>\n",
       "      <td>1</td>\n",
       "      <td>1</td>\n",
       "      <td>3</td>\n",
       "      <td>2</td>\n",
       "      <td>1.0</td>\n",
       "      <td>3</td>\n",
       "      <td>1</td>\n",
       "      <td>1</td>\n",
       "      <td>1</td>\n",
       "    </tr>\n",
       "  </tbody>\n",
       "</table>\n",
       "</div>"
      ],
      "text/plain": [
       "   Clump thickness  Uniformity of cell cize  Uniformity of cell shape  \\\n",
       "0                5                        1                         1   \n",
       "1                5                        4                         4   \n",
       "2                3                        1                         1   \n",
       "3                6                        8                         8   \n",
       "4                4                        1                         1   \n",
       "\n",
       "   Marginal adhesion  Single epithelial cell size  Bare nuclei  \\\n",
       "0                  1                            2          1.0   \n",
       "1                  5                            7         10.0   \n",
       "2                  1                            2          2.0   \n",
       "3                  1                            3          4.0   \n",
       "4                  3                            2          1.0   \n",
       "\n",
       "   Bland chromatin  Normal nucleoli  Mitoses  cluster_pca  \n",
       "0                3                1        1            1  \n",
       "1                3                2        1            0  \n",
       "2                3                1        1            1  \n",
       "3                3                7        1            0  \n",
       "4                3                1        1            1  "
      ]
     },
     "execution_count": 28,
     "metadata": {},
     "output_type": "execute_result"
    }
   ],
   "source": [
    "dataframe2=dataframe.drop(['Class','Sample code number'],axis=1)\n",
    "dataframe2.head()"
   ]
  },
  {
   "cell_type": "code",
   "execution_count": 29,
   "id": "db196aa1",
   "metadata": {},
   "outputs": [],
   "source": [
    "dataframe2.reset_index(inplace=True)"
   ]
  },
  {
   "cell_type": "code",
   "execution_count": 30,
   "id": "e5443e29",
   "metadata": {},
   "outputs": [
    {
     "data": {
      "text/plain": [
       "683"
      ]
     },
     "execution_count": 30,
     "metadata": {},
     "output_type": "execute_result"
    }
   ],
   "source": [
    "len(new_data.index)"
   ]
  },
  {
   "cell_type": "code",
   "execution_count": null,
   "id": "42b5e26c",
   "metadata": {},
   "outputs": [],
   "source": []
  },
  {
   "cell_type": "code",
   "execution_count": 31,
   "id": "6ee2a11a",
   "metadata": {},
   "outputs": [
    {
     "data": {
      "text/plain": [
       "(683, 11)"
      ]
     },
     "execution_count": 31,
     "metadata": {},
     "output_type": "execute_result"
    }
   ],
   "source": [
    "dataframe2.shape"
   ]
  },
  {
   "cell_type": "code",
   "execution_count": 32,
   "id": "4fd44dcf",
   "metadata": {},
   "outputs": [
    {
     "data": {
      "text/plain": [
       "0      1\n",
       "1      0\n",
       "2      1\n",
       "3      0\n",
       "4      1\n",
       "      ..\n",
       "678    1\n",
       "679    1\n",
       "680    0\n",
       "681    0\n",
       "682    0\n",
       "Name: cluster_pca, Length: 683, dtype: int64"
      ]
     },
     "execution_count": 32,
     "metadata": {},
     "output_type": "execute_result"
    }
   ],
   "source": [
    "dataframe2['cluster_pca']"
   ]
  },
  {
   "cell_type": "code",
   "execution_count": 121,
   "id": "494f0dba",
   "metadata": {},
   "outputs": [],
   "source": [
    "nv_val =[]\n",
    "for i in np.arange(len(dataframe2.index)):\n",
    "    if dataframe2.cluster_pca[i]==0:\n",
    "        nv_val.append(\"Cluster 2\")\n",
    "    else:\n",
    "        nv_val.append(\"Cluster 1\")"
   ]
  },
  {
   "cell_type": "code",
   "execution_count": 122,
   "id": "0bf679cf",
   "metadata": {},
   "outputs": [],
   "source": [
    "dataframe3=dataframe2.assign(categorie_cluster=nv_val)"
   ]
  },
  {
   "cell_type": "code",
   "execution_count": 123,
   "id": "d176b1d4",
   "metadata": {},
   "outputs": [
    {
     "data": {
      "text/html": [
       "<div>\n",
       "<style scoped>\n",
       "    .dataframe tbody tr th:only-of-type {\n",
       "        vertical-align: middle;\n",
       "    }\n",
       "\n",
       "    .dataframe tbody tr th {\n",
       "        vertical-align: top;\n",
       "    }\n",
       "\n",
       "    .dataframe thead th {\n",
       "        text-align: right;\n",
       "    }\n",
       "</style>\n",
       "<table border=\"1\" class=\"dataframe\">\n",
       "  <thead>\n",
       "    <tr style=\"text-align: right;\">\n",
       "      <th></th>\n",
       "      <th>index</th>\n",
       "      <th>Clump thickness</th>\n",
       "      <th>Uniformity of cell cize</th>\n",
       "      <th>Uniformity of cell shape</th>\n",
       "      <th>Marginal adhesion</th>\n",
       "      <th>Single epithelial cell size</th>\n",
       "      <th>Bare nuclei</th>\n",
       "      <th>Bland chromatin</th>\n",
       "      <th>Normal nucleoli</th>\n",
       "      <th>Mitoses</th>\n",
       "      <th>cluster_pca</th>\n",
       "      <th>categorie_cluster</th>\n",
       "    </tr>\n",
       "  </thead>\n",
       "  <tbody>\n",
       "    <tr>\n",
       "      <th>0</th>\n",
       "      <td>0</td>\n",
       "      <td>5</td>\n",
       "      <td>1</td>\n",
       "      <td>1</td>\n",
       "      <td>1</td>\n",
       "      <td>2</td>\n",
       "      <td>1.0</td>\n",
       "      <td>3</td>\n",
       "      <td>1</td>\n",
       "      <td>1</td>\n",
       "      <td>1</td>\n",
       "      <td>Cluster 1</td>\n",
       "    </tr>\n",
       "    <tr>\n",
       "      <th>1</th>\n",
       "      <td>1</td>\n",
       "      <td>5</td>\n",
       "      <td>4</td>\n",
       "      <td>4</td>\n",
       "      <td>5</td>\n",
       "      <td>7</td>\n",
       "      <td>10.0</td>\n",
       "      <td>3</td>\n",
       "      <td>2</td>\n",
       "      <td>1</td>\n",
       "      <td>0</td>\n",
       "      <td>Cluster 2</td>\n",
       "    </tr>\n",
       "    <tr>\n",
       "      <th>2</th>\n",
       "      <td>2</td>\n",
       "      <td>3</td>\n",
       "      <td>1</td>\n",
       "      <td>1</td>\n",
       "      <td>1</td>\n",
       "      <td>2</td>\n",
       "      <td>2.0</td>\n",
       "      <td>3</td>\n",
       "      <td>1</td>\n",
       "      <td>1</td>\n",
       "      <td>1</td>\n",
       "      <td>Cluster 1</td>\n",
       "    </tr>\n",
       "    <tr>\n",
       "      <th>3</th>\n",
       "      <td>3</td>\n",
       "      <td>6</td>\n",
       "      <td>8</td>\n",
       "      <td>8</td>\n",
       "      <td>1</td>\n",
       "      <td>3</td>\n",
       "      <td>4.0</td>\n",
       "      <td>3</td>\n",
       "      <td>7</td>\n",
       "      <td>1</td>\n",
       "      <td>0</td>\n",
       "      <td>Cluster 2</td>\n",
       "    </tr>\n",
       "    <tr>\n",
       "      <th>4</th>\n",
       "      <td>4</td>\n",
       "      <td>4</td>\n",
       "      <td>1</td>\n",
       "      <td>1</td>\n",
       "      <td>3</td>\n",
       "      <td>2</td>\n",
       "      <td>1.0</td>\n",
       "      <td>3</td>\n",
       "      <td>1</td>\n",
       "      <td>1</td>\n",
       "      <td>1</td>\n",
       "      <td>Cluster 1</td>\n",
       "    </tr>\n",
       "    <tr>\n",
       "      <th>...</th>\n",
       "      <td>...</td>\n",
       "      <td>...</td>\n",
       "      <td>...</td>\n",
       "      <td>...</td>\n",
       "      <td>...</td>\n",
       "      <td>...</td>\n",
       "      <td>...</td>\n",
       "      <td>...</td>\n",
       "      <td>...</td>\n",
       "      <td>...</td>\n",
       "      <td>...</td>\n",
       "      <td>...</td>\n",
       "    </tr>\n",
       "    <tr>\n",
       "      <th>678</th>\n",
       "      <td>694</td>\n",
       "      <td>3</td>\n",
       "      <td>1</td>\n",
       "      <td>1</td>\n",
       "      <td>1</td>\n",
       "      <td>3</td>\n",
       "      <td>2.0</td>\n",
       "      <td>1</td>\n",
       "      <td>1</td>\n",
       "      <td>1</td>\n",
       "      <td>1</td>\n",
       "      <td>Cluster 1</td>\n",
       "    </tr>\n",
       "    <tr>\n",
       "      <th>679</th>\n",
       "      <td>695</td>\n",
       "      <td>2</td>\n",
       "      <td>1</td>\n",
       "      <td>1</td>\n",
       "      <td>1</td>\n",
       "      <td>2</td>\n",
       "      <td>1.0</td>\n",
       "      <td>1</td>\n",
       "      <td>1</td>\n",
       "      <td>1</td>\n",
       "      <td>1</td>\n",
       "      <td>Cluster 1</td>\n",
       "    </tr>\n",
       "    <tr>\n",
       "      <th>680</th>\n",
       "      <td>696</td>\n",
       "      <td>5</td>\n",
       "      <td>10</td>\n",
       "      <td>10</td>\n",
       "      <td>3</td>\n",
       "      <td>7</td>\n",
       "      <td>3.0</td>\n",
       "      <td>8</td>\n",
       "      <td>10</td>\n",
       "      <td>2</td>\n",
       "      <td>0</td>\n",
       "      <td>Cluster 2</td>\n",
       "    </tr>\n",
       "    <tr>\n",
       "      <th>681</th>\n",
       "      <td>697</td>\n",
       "      <td>4</td>\n",
       "      <td>8</td>\n",
       "      <td>6</td>\n",
       "      <td>4</td>\n",
       "      <td>3</td>\n",
       "      <td>4.0</td>\n",
       "      <td>10</td>\n",
       "      <td>6</td>\n",
       "      <td>1</td>\n",
       "      <td>0</td>\n",
       "      <td>Cluster 2</td>\n",
       "    </tr>\n",
       "    <tr>\n",
       "      <th>682</th>\n",
       "      <td>698</td>\n",
       "      <td>4</td>\n",
       "      <td>8</td>\n",
       "      <td>8</td>\n",
       "      <td>5</td>\n",
       "      <td>4</td>\n",
       "      <td>5.0</td>\n",
       "      <td>10</td>\n",
       "      <td>4</td>\n",
       "      <td>1</td>\n",
       "      <td>0</td>\n",
       "      <td>Cluster 2</td>\n",
       "    </tr>\n",
       "  </tbody>\n",
       "</table>\n",
       "<p>683 rows × 12 columns</p>\n",
       "</div>"
      ],
      "text/plain": [
       "     index  Clump thickness  Uniformity of cell cize  \\\n",
       "0        0                5                        1   \n",
       "1        1                5                        4   \n",
       "2        2                3                        1   \n",
       "3        3                6                        8   \n",
       "4        4                4                        1   \n",
       "..     ...              ...                      ...   \n",
       "678    694                3                        1   \n",
       "679    695                2                        1   \n",
       "680    696                5                       10   \n",
       "681    697                4                        8   \n",
       "682    698                4                        8   \n",
       "\n",
       "     Uniformity of cell shape  Marginal adhesion  Single epithelial cell size  \\\n",
       "0                           1                  1                            2   \n",
       "1                           4                  5                            7   \n",
       "2                           1                  1                            2   \n",
       "3                           8                  1                            3   \n",
       "4                           1                  3                            2   \n",
       "..                        ...                ...                          ...   \n",
       "678                         1                  1                            3   \n",
       "679                         1                  1                            2   \n",
       "680                        10                  3                            7   \n",
       "681                         6                  4                            3   \n",
       "682                         8                  5                            4   \n",
       "\n",
       "     Bare nuclei  Bland chromatin  Normal nucleoli  Mitoses  cluster_pca  \\\n",
       "0            1.0                3                1        1            1   \n",
       "1           10.0                3                2        1            0   \n",
       "2            2.0                3                1        1            1   \n",
       "3            4.0                3                7        1            0   \n",
       "4            1.0                3                1        1            1   \n",
       "..           ...              ...              ...      ...          ...   \n",
       "678          2.0                1                1        1            1   \n",
       "679          1.0                1                1        1            1   \n",
       "680          3.0                8               10        2            0   \n",
       "681          4.0               10                6        1            0   \n",
       "682          5.0               10                4        1            0   \n",
       "\n",
       "    categorie_cluster  \n",
       "0           Cluster 1  \n",
       "1           Cluster 2  \n",
       "2           Cluster 1  \n",
       "3           Cluster 2  \n",
       "4           Cluster 1  \n",
       "..                ...  \n",
       "678         Cluster 1  \n",
       "679         Cluster 1  \n",
       "680         Cluster 2  \n",
       "681         Cluster 2  \n",
       "682         Cluster 2  \n",
       "\n",
       "[683 rows x 12 columns]"
      ]
     },
     "execution_count": 123,
     "metadata": {},
     "output_type": "execute_result"
    }
   ],
   "source": [
    "dataframe3"
   ]
  },
  {
   "cell_type": "code",
   "execution_count": 124,
   "id": "5008bebc",
   "metadata": {},
   "outputs": [
    {
     "name": "stdout",
     "output_type": "stream",
     "text": [
      "<class 'pandas.core.frame.DataFrame'>\n",
      "RangeIndex: 683 entries, 0 to 682\n",
      "Data columns (total 12 columns):\n",
      " #   Column                       Non-Null Count  Dtype  \n",
      "---  ------                       --------------  -----  \n",
      " 0   index                        683 non-null    int64  \n",
      " 1   Clump thickness              683 non-null    int64  \n",
      " 2   Uniformity of cell cize      683 non-null    int64  \n",
      " 3   Uniformity of cell shape     683 non-null    int64  \n",
      " 4   Marginal adhesion            683 non-null    int64  \n",
      " 5   Single epithelial cell size  683 non-null    int64  \n",
      " 6   Bare nuclei                  683 non-null    float64\n",
      " 7   Bland chromatin              683 non-null    int64  \n",
      " 8   Normal nucleoli              683 non-null    int64  \n",
      " 9   Mitoses                      683 non-null    int64  \n",
      " 10  cluster_pca                  683 non-null    int64  \n",
      " 11  categorie_cluster            683 non-null    object \n",
      "dtypes: float64(1), int64(10), object(1)\n",
      "memory usage: 64.2+ KB\n"
     ]
    }
   ],
   "source": [
    "dataframe3.info()"
   ]
  },
  {
   "cell_type": "code",
   "execution_count": 125,
   "id": "aa572a3a",
   "metadata": {},
   "outputs": [
    {
     "data": {
      "text/plain": [
       "['index',\n",
       " 'Clump thickness',\n",
       " 'Uniformity of cell cize',\n",
       " 'Uniformity of cell shape',\n",
       " 'Marginal adhesion',\n",
       " 'Single epithelial cell size',\n",
       " 'Bare nuclei',\n",
       " 'Bland chromatin',\n",
       " 'Normal nucleoli',\n",
       " 'Mitoses',\n",
       " 'cluster_pca',\n",
       " 'categorie_cluster']"
      ]
     },
     "execution_count": 125,
     "metadata": {},
     "output_type": "execute_result"
    }
   ],
   "source": [
    "features3=dataframe3.columns.tolist()\n",
    "features3"
   ]
  },
  {
   "cell_type": "code",
   "execution_count": 126,
   "id": "b389c403",
   "metadata": {},
   "outputs": [
    {
     "data": {
      "text/plain": [
       "'index'"
      ]
     },
     "execution_count": 126,
     "metadata": {},
     "output_type": "execute_result"
    }
   ],
   "source": [
    "features3.pop(0)"
   ]
  },
  {
   "cell_type": "code",
   "execution_count": 127,
   "id": "f1a784c0",
   "metadata": {},
   "outputs": [
    {
     "data": {
      "text/plain": [
       "'cluster_pca'"
      ]
     },
     "execution_count": 127,
     "metadata": {},
     "output_type": "execute_result"
    }
   ],
   "source": [
    "features3.pop(9)"
   ]
  },
  {
   "cell_type": "code",
   "execution_count": 128,
   "id": "5f43260c",
   "metadata": {},
   "outputs": [
    {
     "data": {
      "text/plain": [
       "['Clump thickness',\n",
       " 'Uniformity of cell cize',\n",
       " 'Uniformity of cell shape',\n",
       " 'Marginal adhesion',\n",
       " 'Single epithelial cell size',\n",
       " 'Bare nuclei',\n",
       " 'Bland chromatin',\n",
       " 'Normal nucleoli',\n",
       " 'Mitoses',\n",
       " 'categorie_cluster']"
      ]
     },
     "execution_count": 128,
     "metadata": {},
     "output_type": "execute_result"
    }
   ],
   "source": [
    "features3"
   ]
  },
  {
   "cell_type": "code",
   "execution_count": 129,
   "id": "995d0647",
   "metadata": {},
   "outputs": [
    {
     "data": {
      "text/html": [
       "<div>\n",
       "<style scoped>\n",
       "    .dataframe tbody tr th:only-of-type {\n",
       "        vertical-align: middle;\n",
       "    }\n",
       "\n",
       "    .dataframe tbody tr th {\n",
       "        vertical-align: top;\n",
       "    }\n",
       "\n",
       "    .dataframe thead th {\n",
       "        text-align: right;\n",
       "    }\n",
       "</style>\n",
       "<table border=\"1\" class=\"dataframe\">\n",
       "  <thead>\n",
       "    <tr style=\"text-align: right;\">\n",
       "      <th></th>\n",
       "      <th>Clump thickness</th>\n",
       "      <th>Uniformity of cell cize</th>\n",
       "      <th>Uniformity of cell shape</th>\n",
       "      <th>Marginal adhesion</th>\n",
       "      <th>Single epithelial cell size</th>\n",
       "      <th>Bare nuclei</th>\n",
       "      <th>Bland chromatin</th>\n",
       "      <th>Normal nucleoli</th>\n",
       "      <th>Mitoses</th>\n",
       "    </tr>\n",
       "    <tr>\n",
       "      <th>categorie_cluster</th>\n",
       "      <th></th>\n",
       "      <th></th>\n",
       "      <th></th>\n",
       "      <th></th>\n",
       "      <th></th>\n",
       "      <th></th>\n",
       "      <th></th>\n",
       "      <th></th>\n",
       "      <th></th>\n",
       "    </tr>\n",
       "  </thead>\n",
       "  <tbody>\n",
       "    <tr>\n",
       "      <th>Cluster 1</th>\n",
       "      <td>2.909091</td>\n",
       "      <td>1.216783</td>\n",
       "      <td>1.319347</td>\n",
       "      <td>1.277389</td>\n",
       "      <td>1.997669</td>\n",
       "      <td>1.235431</td>\n",
       "      <td>2.032634</td>\n",
       "      <td>1.156177</td>\n",
       "      <td>1.030303</td>\n",
       "    </tr>\n",
       "    <tr>\n",
       "      <th>Cluster 2</th>\n",
       "      <td>7.031496</td>\n",
       "      <td>6.417323</td>\n",
       "      <td>6.417323</td>\n",
       "      <td>5.452756</td>\n",
       "      <td>5.322835</td>\n",
       "      <td>7.444882</td>\n",
       "      <td>5.830709</td>\n",
       "      <td>5.763780</td>\n",
       "      <td>2.570866</td>\n",
       "    </tr>\n",
       "  </tbody>\n",
       "</table>\n",
       "</div>"
      ],
      "text/plain": [
       "                   Clump thickness  Uniformity of cell cize  \\\n",
       "categorie_cluster                                             \n",
       "Cluster 1                 2.909091                 1.216783   \n",
       "Cluster 2                 7.031496                 6.417323   \n",
       "\n",
       "                   Uniformity of cell shape  Marginal adhesion  \\\n",
       "categorie_cluster                                                \n",
       "Cluster 1                          1.319347           1.277389   \n",
       "Cluster 2                          6.417323           5.452756   \n",
       "\n",
       "                   Single epithelial cell size  Bare nuclei  Bland chromatin  \\\n",
       "categorie_cluster                                                              \n",
       "Cluster 1                             1.997669     1.235431         2.032634   \n",
       "Cluster 2                             5.322835     7.444882         5.830709   \n",
       "\n",
       "                   Normal nucleoli   Mitoses  \n",
       "categorie_cluster                             \n",
       "Cluster 1                 1.156177  1.030303  \n",
       "Cluster 2                 5.763780  2.570866  "
      ]
     },
     "execution_count": 129,
     "metadata": {},
     "output_type": "execute_result"
    }
   ],
   "source": [
    "resultat=dataframe3.groupby('categorie_cluster')[features3].mean()\n",
    "resultat"
   ]
  },
  {
   "cell_type": "code",
   "execution_count": 130,
   "id": "5309f1dc",
   "metadata": {},
   "outputs": [
    {
     "data": {
      "text/html": [
       "<div>\n",
       "<style scoped>\n",
       "    .dataframe tbody tr th:only-of-type {\n",
       "        vertical-align: middle;\n",
       "    }\n",
       "\n",
       "    .dataframe tbody tr th {\n",
       "        vertical-align: top;\n",
       "    }\n",
       "\n",
       "    .dataframe thead th {\n",
       "        text-align: right;\n",
       "    }\n",
       "</style>\n",
       "<table border=\"1\" class=\"dataframe\">\n",
       "  <thead>\n",
       "    <tr style=\"text-align: right;\">\n",
       "      <th>categorie_cluster</th>\n",
       "      <th>Cluster 1</th>\n",
       "      <th>Cluster 2</th>\n",
       "    </tr>\n",
       "  </thead>\n",
       "  <tbody>\n",
       "    <tr>\n",
       "      <th>Clump thickness</th>\n",
       "      <td>2.909091</td>\n",
       "      <td>7.031496</td>\n",
       "    </tr>\n",
       "    <tr>\n",
       "      <th>Uniformity of cell cize</th>\n",
       "      <td>1.216783</td>\n",
       "      <td>6.417323</td>\n",
       "    </tr>\n",
       "    <tr>\n",
       "      <th>Uniformity of cell shape</th>\n",
       "      <td>1.319347</td>\n",
       "      <td>6.417323</td>\n",
       "    </tr>\n",
       "    <tr>\n",
       "      <th>Marginal adhesion</th>\n",
       "      <td>1.277389</td>\n",
       "      <td>5.452756</td>\n",
       "    </tr>\n",
       "    <tr>\n",
       "      <th>Single epithelial cell size</th>\n",
       "      <td>1.997669</td>\n",
       "      <td>5.322835</td>\n",
       "    </tr>\n",
       "    <tr>\n",
       "      <th>Bare nuclei</th>\n",
       "      <td>1.235431</td>\n",
       "      <td>7.444882</td>\n",
       "    </tr>\n",
       "    <tr>\n",
       "      <th>Bland chromatin</th>\n",
       "      <td>2.032634</td>\n",
       "      <td>5.830709</td>\n",
       "    </tr>\n",
       "    <tr>\n",
       "      <th>Normal nucleoli</th>\n",
       "      <td>1.156177</td>\n",
       "      <td>5.763780</td>\n",
       "    </tr>\n",
       "    <tr>\n",
       "      <th>Mitoses</th>\n",
       "      <td>1.030303</td>\n",
       "      <td>2.570866</td>\n",
       "    </tr>\n",
       "  </tbody>\n",
       "</table>\n",
       "</div>"
      ],
      "text/plain": [
       "categorie_cluster            Cluster 1  Cluster 2\n",
       "Clump thickness               2.909091   7.031496\n",
       "Uniformity of cell cize       1.216783   6.417323\n",
       "Uniformity of cell shape      1.319347   6.417323\n",
       "Marginal adhesion             1.277389   5.452756\n",
       "Single epithelial cell size   1.997669   5.322835\n",
       "Bare nuclei                   1.235431   7.444882\n",
       "Bland chromatin               2.032634   5.830709\n",
       "Normal nucleoli               1.156177   5.763780\n",
       "Mitoses                       1.030303   2.570866"
      ]
     },
     "execution_count": 130,
     "metadata": {},
     "output_type": "execute_result"
    }
   ],
   "source": [
    "resultat_transpose=resultat.T\n",
    "resultat_transpose"
   ]
  },
  {
   "cell_type": "markdown",
   "id": "96b95b0b",
   "metadata": {},
   "source": [
    "### 7.2.4 Modeling"
   ]
  },
  {
   "cell_type": "markdown",
   "id": "b2cf879b",
   "metadata": {},
   "source": [
    "### Figure 7.2 Centroids for k-means with k = 2, where the benign breast mass is Cluster 1."
   ]
  },
  {
   "cell_type": "code",
   "execution_count": 131,
   "id": "ceeafb33",
   "metadata": {},
   "outputs": [
    {
     "data": {
      "text/plain": [
       "<AxesSubplot:>"
      ]
     },
     "execution_count": 131,
     "metadata": {},
     "output_type": "execute_result"
    },
    {
     "data": {
      "image/png": "[encoded data removed]",
      "text/plain": [
       "<Figure size 800x550 with 1 Axes>"
      ]
     },
     "metadata": {},
     "output_type": "display_data"
    }
   ],
   "source": [
    "resultat_transpose.plot.bar()"
   ]
  },
  {
   "cell_type": "markdown",
   "id": "472a6245",
   "metadata": {},
   "source": [
    "### Centroids for k-means with k = 3"
   ]
  },
  {
   "cell_type": "code",
   "execution_count": 44,
   "id": "f4d2cb3f",
   "metadata": {},
   "outputs": [],
   "source": [
    "cluster_model2=KMeans(n_clusters=3)\n",
    "cluster_model2.fit(res_kpca)\n",
    "clusters2=cluster_model2.predict(res_kpca)"
   ]
  },
  {
   "cell_type": "code",
   "execution_count": 45,
   "id": "9119ee92",
   "metadata": {},
   "outputs": [
    {
     "data": {
      "text/plain": [
       "array([0, 1, 2, 1, 0, 1, 2, 2, 2, 0, 2, 2, 1, 2, 1, 1, 0, 0, 1, 0, 1, 1,\n",
       "       2, 2, 1, 2, 0, 2, 2, 2, 2, 1, 2, 2, 2, 1, 0, 1, 1, 1, 1, 1, 1, 2,\n",
       "       1, 2, 0, 1, 1, 1, 1, 1, 1, 1, 1, 1, 1, 1, 1, 2, 1, 1, 2, 1, 0, 1,\n",
       "       1, 2, 0, 1, 2, 1, 1, 2, 2, 0, 0, 2, 2, 0, 0, 0, 1, 1, 1, 1, 0, 2,\n",
       "       2, 2, 0, 2, 2, 2, 2, 0, 1, 1, 1, 1, 0, 1, 1, 1, 1, 1, 2, 1, 2, 1,\n",
       "       1, 1, 0, 2, 0, 1, 2, 0, 2, 0, 1, 1, 1, 2, 1, 2, 1, 1, 0, 2, 1, 2,\n",
       "       2, 0, 0, 2, 0, 2, 2, 1, 2, 2, 1, 2, 1, 1, 2, 1, 1, 0, 2, 1, 2, 2,\n",
       "       1, 1, 0, 2, 1, 0, 1, 1, 2, 2, 2, 2, 2, 1, 1, 1, 2, 1, 0, 1, 2, 2,\n",
       "       0, 1, 1, 2, 1, 1, 1, 2, 1, 1, 0, 2, 2, 0, 1, 0, 2, 2, 1, 1, 2, 0,\n",
       "       2, 1, 1, 2, 2, 0, 1, 1, 2, 1, 1, 1, 2, 2, 1, 0, 2, 1, 0, 1, 1, 2,\n",
       "       1, 1, 2, 1, 1, 1, 0, 1, 0, 1, 1, 1, 1, 0, 2, 2, 2, 2, 0, 1, 1, 0,\n",
       "       2, 1, 1, 1, 1, 1, 2, 2, 2, 1, 1, 1, 1, 1, 1, 0, 1, 1, 1, 2, 1, 0,\n",
       "       1, 1, 2, 2, 2, 2, 1, 2, 2, 1, 1, 1, 1, 1, 2, 1, 1, 2, 2, 1, 1, 1,\n",
       "       0, 1, 1, 2, 1, 2, 1, 1, 2, 2, 1, 0, 2, 2, 1, 2, 2, 1, 1, 2, 1, 1,\n",
       "       2, 1, 2, 0, 1, 2, 1, 1, 1, 0, 0, 1, 1, 2, 1, 2, 2, 1, 1, 2, 2, 2,\n",
       "       1, 2, 0, 2, 1, 1, 0, 2, 1, 1, 2, 0, 1, 1, 1, 1, 1, 1, 0, 0, 2, 2,\n",
       "       1, 1, 2, 2, 0, 2, 0, 0, 2, 2, 2, 2, 0, 0, 2, 1, 0, 2, 2, 0, 1, 0,\n",
       "       2, 0, 2, 1, 2, 2, 2, 2, 2, 0, 2, 2, 1, 2, 0, 2, 2, 2, 0, 2, 2, 2,\n",
       "       2, 1, 0, 1, 0, 1, 2, 0, 2, 0, 1, 0, 0, 2, 1, 0, 1, 2, 2, 2, 0, 0,\n",
       "       0, 1, 1, 1, 0, 0, 0, 1, 0, 2, 2, 0, 2, 2, 0, 2, 1, 0, 0, 2, 1, 2,\n",
       "       1, 1, 1, 0, 0, 0, 0, 0, 0, 0, 1, 1, 1, 0, 2, 2, 0, 0, 0, 0, 2, 0,\n",
       "       0, 0, 1, 0, 0, 1, 1, 0, 2, 2, 1, 1, 0, 2, 1, 0, 1, 1, 2, 2, 0, 0,\n",
       "       0, 0, 0, 0, 0, 2, 2, 1, 2, 0, 2, 2, 0, 0, 2, 1, 1, 2, 2, 2, 1, 2,\n",
       "       0, 1, 1, 2, 2, 0, 0, 0, 0, 1, 0, 2, 2, 2, 2, 0, 0, 0, 0, 0, 2, 0,\n",
       "       0, 2, 0, 1, 2, 2, 1, 2, 2, 0, 0, 2, 0, 0, 0, 2, 0, 0, 0, 2, 2, 0,\n",
       "       1, 2, 0, 1, 1, 1, 1, 2, 2, 1, 0, 0, 2, 2, 2, 0, 1, 1, 2, 0, 2, 1,\n",
       "       0, 1, 0, 1, 1, 1, 0, 1, 0, 0, 0, 2, 0, 2, 2, 0, 1, 1, 1, 0, 2, 1,\n",
       "       0, 1, 1, 1, 2, 2, 0, 2, 0, 0, 2, 0, 0, 2, 0, 0, 1, 2, 2, 0, 0, 0,\n",
       "       2, 1, 2, 0, 1, 0, 0, 0, 0, 2, 2, 2, 2, 2, 2, 2, 1, 2, 0, 2, 0, 0,\n",
       "       2, 2, 0, 1, 1, 2, 2, 0, 2, 2, 2, 2, 0, 2, 1, 1, 1, 0, 2, 0, 2, 0,\n",
       "       2, 0, 2, 2, 1, 1, 0, 2, 2, 2, 2, 2, 0, 1, 2, 1, 2, 2, 2, 2, 1, 1,\n",
       "       1])"
      ]
     },
     "execution_count": 45,
     "metadata": {},
     "output_type": "execute_result"
    }
   ],
   "source": [
    "clusters2"
   ]
  },
  {
   "cell_type": "markdown",
   "id": "3c26028e",
   "metadata": {},
   "source": [
    "we have 3 cluster"
   ]
  },
  {
   "cell_type": "code",
   "execution_count": 46,
   "id": "7673c05e",
   "metadata": {},
   "outputs": [],
   "source": [
    "#ajout des clusters aux data frame et sauvegarde de fichier\n",
    "dataframe3['cluster_pcak2']=clusters2\n",
    "dataframe3.to_csv('data_with_two_cluster.csv')#on enregistre le contenu dans un fichier csv et on peut partager notre fichier avec les clusters"
   ]
  },
  {
   "cell_type": "code",
   "execution_count": 47,
   "id": "c6f10364",
   "metadata": {},
   "outputs": [],
   "source": [
    "#on peut charger le fichier précedement enregistré\n",
    "dataframe4=pd.read_csv('data_with_two_cluster.csv',index_col=0)"
   ]
  },
  {
   "cell_type": "code",
   "execution_count": 48,
   "id": "d5bc7667",
   "metadata": {},
   "outputs": [
    {
     "data": {
      "text/html": [
       "<div>\n",
       "<style scoped>\n",
       "    .dataframe tbody tr th:only-of-type {\n",
       "        vertical-align: middle;\n",
       "    }\n",
       "\n",
       "    .dataframe tbody tr th {\n",
       "        vertical-align: top;\n",
       "    }\n",
       "\n",
       "    .dataframe thead th {\n",
       "        text-align: right;\n",
       "    }\n",
       "</style>\n",
       "<table border=\"1\" class=\"dataframe\">\n",
       "  <thead>\n",
       "    <tr style=\"text-align: right;\">\n",
       "      <th></th>\n",
       "      <th>index</th>\n",
       "      <th>Clump thickness</th>\n",
       "      <th>Uniformity of cell cize</th>\n",
       "      <th>Uniformity of cell shape</th>\n",
       "      <th>Marginal adhesion</th>\n",
       "      <th>Single epithelial cell size</th>\n",
       "      <th>Bare nuclei</th>\n",
       "      <th>Bland chromatin</th>\n",
       "      <th>Normal nucleoli</th>\n",
       "      <th>Mitoses</th>\n",
       "      <th>cluster_pca</th>\n",
       "      <th>categorie_cluster</th>\n",
       "      <th>cluster_pcak2</th>\n",
       "    </tr>\n",
       "  </thead>\n",
       "  <tbody>\n",
       "    <tr>\n",
       "      <th>0</th>\n",
       "      <td>0</td>\n",
       "      <td>5</td>\n",
       "      <td>1</td>\n",
       "      <td>1</td>\n",
       "      <td>1</td>\n",
       "      <td>2</td>\n",
       "      <td>1.0</td>\n",
       "      <td>3</td>\n",
       "      <td>1</td>\n",
       "      <td>1</td>\n",
       "      <td>1</td>\n",
       "      <td>Cluster 2</td>\n",
       "      <td>0</td>\n",
       "    </tr>\n",
       "    <tr>\n",
       "      <th>1</th>\n",
       "      <td>1</td>\n",
       "      <td>5</td>\n",
       "      <td>4</td>\n",
       "      <td>4</td>\n",
       "      <td>5</td>\n",
       "      <td>7</td>\n",
       "      <td>10.0</td>\n",
       "      <td>3</td>\n",
       "      <td>2</td>\n",
       "      <td>1</td>\n",
       "      <td>0</td>\n",
       "      <td>Cluster 1</td>\n",
       "      <td>1</td>\n",
       "    </tr>\n",
       "    <tr>\n",
       "      <th>2</th>\n",
       "      <td>2</td>\n",
       "      <td>3</td>\n",
       "      <td>1</td>\n",
       "      <td>1</td>\n",
       "      <td>1</td>\n",
       "      <td>2</td>\n",
       "      <td>2.0</td>\n",
       "      <td>3</td>\n",
       "      <td>1</td>\n",
       "      <td>1</td>\n",
       "      <td>1</td>\n",
       "      <td>Cluster 2</td>\n",
       "      <td>2</td>\n",
       "    </tr>\n",
       "    <tr>\n",
       "      <th>3</th>\n",
       "      <td>3</td>\n",
       "      <td>6</td>\n",
       "      <td>8</td>\n",
       "      <td>8</td>\n",
       "      <td>1</td>\n",
       "      <td>3</td>\n",
       "      <td>4.0</td>\n",
       "      <td>3</td>\n",
       "      <td>7</td>\n",
       "      <td>1</td>\n",
       "      <td>0</td>\n",
       "      <td>Cluster 1</td>\n",
       "      <td>1</td>\n",
       "    </tr>\n",
       "    <tr>\n",
       "      <th>4</th>\n",
       "      <td>4</td>\n",
       "      <td>4</td>\n",
       "      <td>1</td>\n",
       "      <td>1</td>\n",
       "      <td>3</td>\n",
       "      <td>2</td>\n",
       "      <td>1.0</td>\n",
       "      <td>3</td>\n",
       "      <td>1</td>\n",
       "      <td>1</td>\n",
       "      <td>1</td>\n",
       "      <td>Cluster 2</td>\n",
       "      <td>0</td>\n",
       "    </tr>\n",
       "    <tr>\n",
       "      <th>...</th>\n",
       "      <td>...</td>\n",
       "      <td>...</td>\n",
       "      <td>...</td>\n",
       "      <td>...</td>\n",
       "      <td>...</td>\n",
       "      <td>...</td>\n",
       "      <td>...</td>\n",
       "      <td>...</td>\n",
       "      <td>...</td>\n",
       "      <td>...</td>\n",
       "      <td>...</td>\n",
       "      <td>...</td>\n",
       "      <td>...</td>\n",
       "    </tr>\n",
       "    <tr>\n",
       "      <th>678</th>\n",
       "      <td>694</td>\n",
       "      <td>3</td>\n",
       "      <td>1</td>\n",
       "      <td>1</td>\n",
       "      <td>1</td>\n",
       "      <td>3</td>\n",
       "      <td>2.0</td>\n",
       "      <td>1</td>\n",
       "      <td>1</td>\n",
       "      <td>1</td>\n",
       "      <td>1</td>\n",
       "      <td>Cluster 2</td>\n",
       "      <td>2</td>\n",
       "    </tr>\n",
       "    <tr>\n",
       "      <th>679</th>\n",
       "      <td>695</td>\n",
       "      <td>2</td>\n",
       "      <td>1</td>\n",
       "      <td>1</td>\n",
       "      <td>1</td>\n",
       "      <td>2</td>\n",
       "      <td>1.0</td>\n",
       "      <td>1</td>\n",
       "      <td>1</td>\n",
       "      <td>1</td>\n",
       "      <td>1</td>\n",
       "      <td>Cluster 2</td>\n",
       "      <td>2</td>\n",
       "    </tr>\n",
       "    <tr>\n",
       "      <th>680</th>\n",
       "      <td>696</td>\n",
       "      <td>5</td>\n",
       "      <td>10</td>\n",
       "      <td>10</td>\n",
       "      <td>3</td>\n",
       "      <td>7</td>\n",
       "      <td>3.0</td>\n",
       "      <td>8</td>\n",
       "      <td>10</td>\n",
       "      <td>2</td>\n",
       "      <td>0</td>\n",
       "      <td>Cluster 1</td>\n",
       "      <td>1</td>\n",
       "    </tr>\n",
       "    <tr>\n",
       "      <th>681</th>\n",
       "      <td>697</td>\n",
       "      <td>4</td>\n",
       "      <td>8</td>\n",
       "      <td>6</td>\n",
       "      <td>4</td>\n",
       "      <td>3</td>\n",
       "      <td>4.0</td>\n",
       "      <td>10</td>\n",
       "      <td>6</td>\n",
       "      <td>1</td>\n",
       "      <td>0</td>\n",
       "      <td>Cluster 1</td>\n",
       "      <td>1</td>\n",
       "    </tr>\n",
       "    <tr>\n",
       "      <th>682</th>\n",
       "      <td>698</td>\n",
       "      <td>4</td>\n",
       "      <td>8</td>\n",
       "      <td>8</td>\n",
       "      <td>5</td>\n",
       "      <td>4</td>\n",
       "      <td>5.0</td>\n",
       "      <td>10</td>\n",
       "      <td>4</td>\n",
       "      <td>1</td>\n",
       "      <td>0</td>\n",
       "      <td>Cluster 1</td>\n",
       "      <td>1</td>\n",
       "    </tr>\n",
       "  </tbody>\n",
       "</table>\n",
       "<p>683 rows × 13 columns</p>\n",
       "</div>"
      ],
      "text/plain": [
       "     index  Clump thickness  Uniformity of cell cize  \\\n",
       "0        0                5                        1   \n",
       "1        1                5                        4   \n",
       "2        2                3                        1   \n",
       "3        3                6                        8   \n",
       "4        4                4                        1   \n",
       "..     ...              ...                      ...   \n",
       "678    694                3                        1   \n",
       "679    695                2                        1   \n",
       "680    696                5                       10   \n",
       "681    697                4                        8   \n",
       "682    698                4                        8   \n",
       "\n",
       "     Uniformity of cell shape  Marginal adhesion  Single epithelial cell size  \\\n",
       "0                           1                  1                            2   \n",
       "1                           4                  5                            7   \n",
       "2                           1                  1                            2   \n",
       "3                           8                  1                            3   \n",
       "4                           1                  3                            2   \n",
       "..                        ...                ...                          ...   \n",
       "678                         1                  1                            3   \n",
       "679                         1                  1                            2   \n",
       "680                        10                  3                            7   \n",
       "681                         6                  4                            3   \n",
       "682                         8                  5                            4   \n",
       "\n",
       "     Bare nuclei  Bland chromatin  Normal nucleoli  Mitoses  cluster_pca  \\\n",
       "0            1.0                3                1        1            1   \n",
       "1           10.0                3                2        1            0   \n",
       "2            2.0                3                1        1            1   \n",
       "3            4.0                3                7        1            0   \n",
       "4            1.0                3                1        1            1   \n",
       "..           ...              ...              ...      ...          ...   \n",
       "678          2.0                1                1        1            1   \n",
       "679          1.0                1                1        1            1   \n",
       "680          3.0                8               10        2            0   \n",
       "681          4.0               10                6        1            0   \n",
       "682          5.0               10                4        1            0   \n",
       "\n",
       "    categorie_cluster  cluster_pcak2  \n",
       "0           Cluster 2              0  \n",
       "1           Cluster 1              1  \n",
       "2           Cluster 2              2  \n",
       "3           Cluster 1              1  \n",
       "4           Cluster 2              0  \n",
       "..                ...            ...  \n",
       "678         Cluster 2              2  \n",
       "679         Cluster 2              2  \n",
       "680         Cluster 1              1  \n",
       "681         Cluster 1              1  \n",
       "682         Cluster 1              1  \n",
       "\n",
       "[683 rows x 13 columns]"
      ]
     },
     "execution_count": 48,
     "metadata": {},
     "output_type": "execute_result"
    }
   ],
   "source": [
    "dataframe4"
   ]
  },
  {
   "cell_type": "code",
   "execution_count": 76,
   "id": "95ffbdae",
   "metadata": {},
   "outputs": [],
   "source": [
    "nv_val2 =[]\n",
    "for i in np.arange(len(dataframe4.index)):\n",
    "    if dataframe4.cluster_pcak2[i]==0:\n",
    "        nv_val2.append(\"Cluster 2\")\n",
    "    elif dataframe4.cluster_pcak2[i]==1:\n",
    "        nv_val2.append(\"Cluster 3\")\n",
    "    else:\n",
    "        nv_val2.append(\"Cluster 1\")"
   ]
  },
  {
   "cell_type": "code",
   "execution_count": 77,
   "id": "6d6a935c",
   "metadata": {},
   "outputs": [
    {
     "data": {
      "text/plain": [
       "['index',\n",
       " 'Clump thickness',\n",
       " 'Uniformity of cell cize',\n",
       " 'Uniformity of cell shape',\n",
       " 'Marginal adhesion',\n",
       " 'Single epithelial cell size',\n",
       " 'Bare nuclei',\n",
       " 'Bland chromatin',\n",
       " 'Normal nucleoli',\n",
       " 'Mitoses',\n",
       " 'cluster_pca',\n",
       " 'categorie_cluster',\n",
       " 'cluster_pcak2',\n",
       " 'categorie_cluster2']"
      ]
     },
     "execution_count": 77,
     "metadata": {},
     "output_type": "execute_result"
    }
   ],
   "source": [
    "dataframe5=dataframe4.assign(categorie_cluster2=nv_val2)\n",
    "features4=dataframe5.columns.tolist()\n",
    "features4"
   ]
  },
  {
   "cell_type": "code",
   "execution_count": 78,
   "id": "b55ffb1b",
   "metadata": {},
   "outputs": [
    {
     "data": {
      "text/plain": [
       "['index',\n",
       " 'Clump thickness',\n",
       " 'Uniformity of cell cize',\n",
       " 'Uniformity of cell shape',\n",
       " 'Marginal adhesion',\n",
       " 'Single epithelial cell size',\n",
       " 'Bare nuclei',\n",
       " 'Bland chromatin',\n",
       " 'Normal nucleoli',\n",
       " 'Mitoses',\n",
       " 'cluster_pca',\n",
       " 'categorie_cluster',\n",
       " 'cluster_pcak2',\n",
       " 'categorie_cluster2']"
      ]
     },
     "execution_count": 78,
     "metadata": {},
     "output_type": "execute_result"
    }
   ],
   "source": [
    "features4"
   ]
  },
  {
   "cell_type": "code",
   "execution_count": 79,
   "id": "4d6753c7",
   "metadata": {},
   "outputs": [
    {
     "data": {
      "text/plain": [
       "'index'"
      ]
     },
     "execution_count": 79,
     "metadata": {},
     "output_type": "execute_result"
    }
   ],
   "source": [
    "features4.pop(0)"
   ]
  },
  {
   "cell_type": "code",
   "execution_count": 80,
   "id": "59330cf1",
   "metadata": {},
   "outputs": [
    {
     "data": {
      "text/plain": [
       "'cluster_pca'"
      ]
     },
     "execution_count": 80,
     "metadata": {},
     "output_type": "execute_result"
    }
   ],
   "source": [
    "features4.pop(9)"
   ]
  },
  {
   "cell_type": "code",
   "execution_count": 81,
   "id": "df7f008d",
   "metadata": {},
   "outputs": [
    {
     "data": {
      "text/plain": [
       "'categorie_cluster'"
      ]
     },
     "execution_count": 81,
     "metadata": {},
     "output_type": "execute_result"
    }
   ],
   "source": [
    "features4.pop(9)"
   ]
  },
  {
   "cell_type": "code",
   "execution_count": 82,
   "id": "65a738ad",
   "metadata": {},
   "outputs": [
    {
     "data": {
      "text/plain": [
       "'cluster_pcak2'"
      ]
     },
     "execution_count": 82,
     "metadata": {},
     "output_type": "execute_result"
    }
   ],
   "source": [
    "features4.pop(9)"
   ]
  },
  {
   "cell_type": "code",
   "execution_count": 83,
   "id": "f41e81ad",
   "metadata": {},
   "outputs": [
    {
     "data": {
      "text/html": [
       "<div>\n",
       "<style scoped>\n",
       "    .dataframe tbody tr th:only-of-type {\n",
       "        vertical-align: middle;\n",
       "    }\n",
       "\n",
       "    .dataframe tbody tr th {\n",
       "        vertical-align: top;\n",
       "    }\n",
       "\n",
       "    .dataframe thead th {\n",
       "        text-align: right;\n",
       "    }\n",
       "</style>\n",
       "<table border=\"1\" class=\"dataframe\">\n",
       "  <thead>\n",
       "    <tr style=\"text-align: right;\">\n",
       "      <th></th>\n",
       "      <th>Clump thickness</th>\n",
       "      <th>Uniformity of cell cize</th>\n",
       "      <th>Uniformity of cell shape</th>\n",
       "      <th>Marginal adhesion</th>\n",
       "      <th>Single epithelial cell size</th>\n",
       "      <th>Bare nuclei</th>\n",
       "      <th>Bland chromatin</th>\n",
       "      <th>Normal nucleoli</th>\n",
       "      <th>Mitoses</th>\n",
       "    </tr>\n",
       "    <tr>\n",
       "      <th>categorie_cluster2</th>\n",
       "      <th></th>\n",
       "      <th></th>\n",
       "      <th></th>\n",
       "      <th></th>\n",
       "      <th></th>\n",
       "      <th></th>\n",
       "      <th></th>\n",
       "      <th></th>\n",
       "      <th></th>\n",
       "    </tr>\n",
       "  </thead>\n",
       "  <tbody>\n",
       "    <tr>\n",
       "      <th>Cluster 1</th>\n",
       "      <td>1.746988</td>\n",
       "      <td>1.108434</td>\n",
       "      <td>1.168675</td>\n",
       "      <td>1.136546</td>\n",
       "      <td>1.939759</td>\n",
       "      <td>1.188755</td>\n",
       "      <td>1.991968</td>\n",
       "      <td>1.068273</td>\n",
       "      <td>1.028112</td>\n",
       "    </tr>\n",
       "    <tr>\n",
       "      <th>Cluster 2</th>\n",
       "      <td>4.543956</td>\n",
       "      <td>1.390110</td>\n",
       "      <td>1.554945</td>\n",
       "      <td>1.478022</td>\n",
       "      <td>2.087912</td>\n",
       "      <td>1.313187</td>\n",
       "      <td>2.109890</td>\n",
       "      <td>1.285714</td>\n",
       "      <td>1.032967</td>\n",
       "    </tr>\n",
       "    <tr>\n",
       "      <th>Cluster 3</th>\n",
       "      <td>7.031746</td>\n",
       "      <td>6.440476</td>\n",
       "      <td>6.436508</td>\n",
       "      <td>5.480159</td>\n",
       "      <td>5.341270</td>\n",
       "      <td>7.484127</td>\n",
       "      <td>5.845238</td>\n",
       "      <td>5.793651</td>\n",
       "      <td>2.583333</td>\n",
       "    </tr>\n",
       "  </tbody>\n",
       "</table>\n",
       "</div>"
      ],
      "text/plain": [
       "                    Clump thickness  Uniformity of cell cize  \\\n",
       "categorie_cluster2                                             \n",
       "Cluster 1                  1.746988                 1.108434   \n",
       "Cluster 2                  4.543956                 1.390110   \n",
       "Cluster 3                  7.031746                 6.440476   \n",
       "\n",
       "                    Uniformity of cell shape  Marginal adhesion  \\\n",
       "categorie_cluster2                                                \n",
       "Cluster 1                           1.168675           1.136546   \n",
       "Cluster 2                           1.554945           1.478022   \n",
       "Cluster 3                           6.436508           5.480159   \n",
       "\n",
       "                    Single epithelial cell size  Bare nuclei  Bland chromatin  \\\n",
       "categorie_cluster2                                                              \n",
       "Cluster 1                              1.939759     1.188755         1.991968   \n",
       "Cluster 2                              2.087912     1.313187         2.109890   \n",
       "Cluster 3                              5.341270     7.484127         5.845238   \n",
       "\n",
       "                    Normal nucleoli   Mitoses  \n",
       "categorie_cluster2                             \n",
       "Cluster 1                  1.068273  1.028112  \n",
       "Cluster 2                  1.285714  1.032967  \n",
       "Cluster 3                  5.793651  2.583333  "
      ]
     },
     "execution_count": 83,
     "metadata": {},
     "output_type": "execute_result"
    }
   ],
   "source": [
    "resultat2=dataframe5.groupby('categorie_cluster2')[features4].mean()\n",
    "resultat2"
   ]
  },
  {
   "cell_type": "code",
   "execution_count": 84,
   "id": "86ddaea6",
   "metadata": {},
   "outputs": [
    {
     "data": {
      "text/html": [
       "<div>\n",
       "<style scoped>\n",
       "    .dataframe tbody tr th:only-of-type {\n",
       "        vertical-align: middle;\n",
       "    }\n",
       "\n",
       "    .dataframe tbody tr th {\n",
       "        vertical-align: top;\n",
       "    }\n",
       "\n",
       "    .dataframe thead th {\n",
       "        text-align: right;\n",
       "    }\n",
       "</style>\n",
       "<table border=\"1\" class=\"dataframe\">\n",
       "  <thead>\n",
       "    <tr style=\"text-align: right;\">\n",
       "      <th>categorie_cluster2</th>\n",
       "      <th>Cluster 1</th>\n",
       "      <th>Cluster 2</th>\n",
       "      <th>Cluster 3</th>\n",
       "    </tr>\n",
       "  </thead>\n",
       "  <tbody>\n",
       "    <tr>\n",
       "      <th>Clump thickness</th>\n",
       "      <td>1.746988</td>\n",
       "      <td>4.543956</td>\n",
       "      <td>7.031746</td>\n",
       "    </tr>\n",
       "    <tr>\n",
       "      <th>Uniformity of cell cize</th>\n",
       "      <td>1.108434</td>\n",
       "      <td>1.390110</td>\n",
       "      <td>6.440476</td>\n",
       "    </tr>\n",
       "    <tr>\n",
       "      <th>Uniformity of cell shape</th>\n",
       "      <td>1.168675</td>\n",
       "      <td>1.554945</td>\n",
       "      <td>6.436508</td>\n",
       "    </tr>\n",
       "    <tr>\n",
       "      <th>Marginal adhesion</th>\n",
       "      <td>1.136546</td>\n",
       "      <td>1.478022</td>\n",
       "      <td>5.480159</td>\n",
       "    </tr>\n",
       "    <tr>\n",
       "      <th>Single epithelial cell size</th>\n",
       "      <td>1.939759</td>\n",
       "      <td>2.087912</td>\n",
       "      <td>5.341270</td>\n",
       "    </tr>\n",
       "    <tr>\n",
       "      <th>Bare nuclei</th>\n",
       "      <td>1.188755</td>\n",
       "      <td>1.313187</td>\n",
       "      <td>7.484127</td>\n",
       "    </tr>\n",
       "    <tr>\n",
       "      <th>Bland chromatin</th>\n",
       "      <td>1.991968</td>\n",
       "      <td>2.109890</td>\n",
       "      <td>5.845238</td>\n",
       "    </tr>\n",
       "    <tr>\n",
       "      <th>Normal nucleoli</th>\n",
       "      <td>1.068273</td>\n",
       "      <td>1.285714</td>\n",
       "      <td>5.793651</td>\n",
       "    </tr>\n",
       "    <tr>\n",
       "      <th>Mitoses</th>\n",
       "      <td>1.028112</td>\n",
       "      <td>1.032967</td>\n",
       "      <td>2.583333</td>\n",
       "    </tr>\n",
       "  </tbody>\n",
       "</table>\n",
       "</div>"
      ],
      "text/plain": [
       "categorie_cluster2           Cluster 1  Cluster 2  Cluster 3\n",
       "Clump thickness               1.746988   4.543956   7.031746\n",
       "Uniformity of cell cize       1.108434   1.390110   6.440476\n",
       "Uniformity of cell shape      1.168675   1.554945   6.436508\n",
       "Marginal adhesion             1.136546   1.478022   5.480159\n",
       "Single epithelial cell size   1.939759   2.087912   5.341270\n",
       "Bare nuclei                   1.188755   1.313187   7.484127\n",
       "Bland chromatin               1.991968   2.109890   5.845238\n",
       "Normal nucleoli               1.068273   1.285714   5.793651\n",
       "Mitoses                       1.028112   1.032967   2.583333"
      ]
     },
     "execution_count": 84,
     "metadata": {},
     "output_type": "execute_result"
    }
   ],
   "source": [
    "resultat_transpose2=resultat2.T\n",
    "resultat_transpose2"
   ]
  },
  {
   "cell_type": "markdown",
   "id": "43ca7676",
   "metadata": {},
   "source": [
    "### Figure 7.3 Centroids for k-means with k = 3, where the benign breast mass is Cluster 1."
   ]
  },
  {
   "cell_type": "code",
   "execution_count": 85,
   "id": "0d65c650",
   "metadata": {},
   "outputs": [
    {
     "data": {
      "text/plain": [
       "<AxesSubplot:>"
      ]
     },
     "execution_count": 85,
     "metadata": {},
     "output_type": "execute_result"
    },
    {
     "data": {
      "image/png": "[encoded data removed]",
      "text/plain": [
       "<Figure size 800x550 with 1 Axes>"
      ]
     },
     "metadata": {},
     "output_type": "display_data"
    }
   ],
   "source": [
    "resultat_transpose2.plot.bar()"
   ]
  },
  {
   "cell_type": "markdown",
   "id": "dd853471",
   "metadata": {},
   "source": [
    "### Centroids for k-means with k = 4"
   ]
  },
  {
   "cell_type": "code",
   "execution_count": 88,
   "id": "44f0af6f",
   "metadata": {},
   "outputs": [],
   "source": [
    "cluster_model3=KMeans(n_clusters=5)\n",
    "cluster_model3.fit(res_kpca)\n",
    "clusters3=cluster_model3.predict(res_kpca)"
   ]
  },
  {
   "cell_type": "code",
   "execution_count": 89,
   "id": "e5acbc3a",
   "metadata": {},
   "outputs": [],
   "source": [
    "dataframe5['cluster_pcak3']=clusters3"
   ]
  },
  {
   "cell_type": "code",
   "execution_count": 109,
   "id": "52113d69",
   "metadata": {},
   "outputs": [],
   "source": [
    "nv_val3 =[]\n",
    "for i in np.arange(len(dataframe5.index)):\n",
    "    if dataframe5.cluster_pcak3[i]==0:\n",
    "        nv_val3.append(\"Cluster 2\")\n",
    "    elif dataframe5.cluster_pcak3[i]==1:\n",
    "        nv_val3.append(\"Cluster 4\")\n",
    "    elif dataframe5.cluster_pcak3[i]==2:\n",
    "        nv_val3.append(\"Cluster 1\")\n",
    "    else:\n",
    "        nv_val3.append(\"Cluster 3\")"
   ]
  },
  {
   "cell_type": "code",
   "execution_count": 110,
   "id": "b9da0404",
   "metadata": {},
   "outputs": [
    {
     "data": {
      "text/plain": [
       "['index',\n",
       " 'Clump thickness',\n",
       " 'Uniformity of cell cize',\n",
       " 'Uniformity of cell shape',\n",
       " 'Marginal adhesion',\n",
       " 'Single epithelial cell size',\n",
       " 'Bare nuclei',\n",
       " 'Bland chromatin',\n",
       " 'Normal nucleoli',\n",
       " 'Mitoses',\n",
       " 'cluster_pca',\n",
       " 'categorie_cluster',\n",
       " 'cluster_pcak2',\n",
       " 'categorie_cluster2',\n",
       " 'cluster_pcak3',\n",
       " 'categorie_cluster3']"
      ]
     },
     "execution_count": 110,
     "metadata": {},
     "output_type": "execute_result"
    }
   ],
   "source": [
    "dataframe6=dataframe5.assign(categorie_cluster3=nv_val3)\n",
    "features6=dataframe6.columns.tolist()\n",
    "features6"
   ]
  },
  {
   "cell_type": "code",
   "execution_count": 111,
   "id": "555cb801",
   "metadata": {},
   "outputs": [
    {
     "data": {
      "text/plain": [
       "'index'"
      ]
     },
     "execution_count": 111,
     "metadata": {},
     "output_type": "execute_result"
    }
   ],
   "source": [
    "features6.pop(0)"
   ]
  },
  {
   "cell_type": "code",
   "execution_count": 112,
   "id": "59873d78",
   "metadata": {},
   "outputs": [
    {
     "data": {
      "text/plain": [
       "'cluster_pca'"
      ]
     },
     "execution_count": 112,
     "metadata": {},
     "output_type": "execute_result"
    }
   ],
   "source": [
    "features6.pop(9)"
   ]
  },
  {
   "cell_type": "code",
   "execution_count": 113,
   "id": "f0b9441a",
   "metadata": {},
   "outputs": [
    {
     "data": {
      "text/plain": [
       "'categorie_cluster'"
      ]
     },
     "execution_count": 113,
     "metadata": {},
     "output_type": "execute_result"
    }
   ],
   "source": [
    "features6.pop(9)"
   ]
  },
  {
   "cell_type": "code",
   "execution_count": 114,
   "id": "44775673",
   "metadata": {},
   "outputs": [
    {
     "data": {
      "text/plain": [
       "'cluster_pcak2'"
      ]
     },
     "execution_count": 114,
     "metadata": {},
     "output_type": "execute_result"
    }
   ],
   "source": [
    "features6.pop(9)"
   ]
  },
  {
   "cell_type": "code",
   "execution_count": 115,
   "id": "fa021b4c",
   "metadata": {},
   "outputs": [
    {
     "data": {
      "text/plain": [
       "'categorie_cluster2'"
      ]
     },
     "execution_count": 115,
     "metadata": {},
     "output_type": "execute_result"
    }
   ],
   "source": [
    "features6.pop(9)"
   ]
  },
  {
   "cell_type": "code",
   "execution_count": 116,
   "id": "f0e004e2",
   "metadata": {},
   "outputs": [
    {
     "data": {
      "text/plain": [
       "'cluster_pcak3'"
      ]
     },
     "execution_count": 116,
     "metadata": {},
     "output_type": "execute_result"
    }
   ],
   "source": [
    "features6.pop(9)"
   ]
  },
  {
   "cell_type": "code",
   "execution_count": 117,
   "id": "1d323ee8",
   "metadata": {},
   "outputs": [
    {
     "data": {
      "text/html": [
       "<div>\n",
       "<style scoped>\n",
       "    .dataframe tbody tr th:only-of-type {\n",
       "        vertical-align: middle;\n",
       "    }\n",
       "\n",
       "    .dataframe tbody tr th {\n",
       "        vertical-align: top;\n",
       "    }\n",
       "\n",
       "    .dataframe thead th {\n",
       "        text-align: right;\n",
       "    }\n",
       "</style>\n",
       "<table border=\"1\" class=\"dataframe\">\n",
       "  <thead>\n",
       "    <tr style=\"text-align: right;\">\n",
       "      <th></th>\n",
       "      <th>Clump thickness</th>\n",
       "      <th>Uniformity of cell cize</th>\n",
       "      <th>Uniformity of cell shape</th>\n",
       "      <th>Marginal adhesion</th>\n",
       "      <th>Single epithelial cell size</th>\n",
       "      <th>Bare nuclei</th>\n",
       "      <th>Bland chromatin</th>\n",
       "      <th>Normal nucleoli</th>\n",
       "      <th>Mitoses</th>\n",
       "    </tr>\n",
       "    <tr>\n",
       "      <th>categorie_cluster3</th>\n",
       "      <th></th>\n",
       "      <th></th>\n",
       "      <th></th>\n",
       "      <th></th>\n",
       "      <th></th>\n",
       "      <th></th>\n",
       "      <th></th>\n",
       "      <th></th>\n",
       "      <th></th>\n",
       "    </tr>\n",
       "  </thead>\n",
       "  <tbody>\n",
       "    <tr>\n",
       "      <th>Cluster 1</th>\n",
       "      <td>1.248588</td>\n",
       "      <td>1.112994</td>\n",
       "      <td>1.197740</td>\n",
       "      <td>1.135593</td>\n",
       "      <td>1.949153</td>\n",
       "      <td>1.231638</td>\n",
       "      <td>1.988701</td>\n",
       "      <td>1.067797</td>\n",
       "      <td>1.033898</td>\n",
       "    </tr>\n",
       "    <tr>\n",
       "      <th>Cluster 2</th>\n",
       "      <td>5.037736</td>\n",
       "      <td>1.462264</td>\n",
       "      <td>1.688679</td>\n",
       "      <td>1.584906</td>\n",
       "      <td>2.084906</td>\n",
       "      <td>1.235849</td>\n",
       "      <td>2.113208</td>\n",
       "      <td>1.367925</td>\n",
       "      <td>1.037736</td>\n",
       "    </tr>\n",
       "    <tr>\n",
       "      <th>Cluster 3</th>\n",
       "      <td>4.721519</td>\n",
       "      <td>2.282700</td>\n",
       "      <td>2.510549</td>\n",
       "      <td>2.151899</td>\n",
       "      <td>2.696203</td>\n",
       "      <td>3.569620</td>\n",
       "      <td>2.940928</td>\n",
       "      <td>2.139241</td>\n",
       "      <td>1.198312</td>\n",
       "    </tr>\n",
       "    <tr>\n",
       "      <th>Cluster 4</th>\n",
       "      <td>7.116564</td>\n",
       "      <td>7.723926</td>\n",
       "      <td>7.423313</td>\n",
       "      <td>6.466258</td>\n",
       "      <td>6.159509</td>\n",
       "      <td>7.521472</td>\n",
       "      <td>6.625767</td>\n",
       "      <td>6.865031</td>\n",
       "      <td>3.177914</td>\n",
       "    </tr>\n",
       "  </tbody>\n",
       "</table>\n",
       "</div>"
      ],
      "text/plain": [
       "                    Clump thickness  Uniformity of cell cize  \\\n",
       "categorie_cluster3                                             \n",
       "Cluster 1                  1.248588                 1.112994   \n",
       "Cluster 2                  5.037736                 1.462264   \n",
       "Cluster 3                  4.721519                 2.282700   \n",
       "Cluster 4                  7.116564                 7.723926   \n",
       "\n",
       "                    Uniformity of cell shape  Marginal adhesion  \\\n",
       "categorie_cluster3                                                \n",
       "Cluster 1                           1.197740           1.135593   \n",
       "Cluster 2                           1.688679           1.584906   \n",
       "Cluster 3                           2.510549           2.151899   \n",
       "Cluster 4                           7.423313           6.466258   \n",
       "\n",
       "                    Single epithelial cell size  Bare nuclei  Bland chromatin  \\\n",
       "categorie_cluster3                                                              \n",
       "Cluster 1                              1.949153     1.231638         1.988701   \n",
       "Cluster 2                              2.084906     1.235849         2.113208   \n",
       "Cluster 3                              2.696203     3.569620         2.940928   \n",
       "Cluster 4                              6.159509     7.521472         6.625767   \n",
       "\n",
       "                    Normal nucleoli   Mitoses  \n",
       "categorie_cluster3                             \n",
       "Cluster 1                  1.067797  1.033898  \n",
       "Cluster 2                  1.367925  1.037736  \n",
       "Cluster 3                  2.139241  1.198312  \n",
       "Cluster 4                  6.865031  3.177914  "
      ]
     },
     "execution_count": 117,
     "metadata": {},
     "output_type": "execute_result"
    }
   ],
   "source": [
    "resultat3=dataframe6.groupby('categorie_cluster3')[features6].mean()\n",
    "resultat3"
   ]
  },
  {
   "cell_type": "code",
   "execution_count": 118,
   "id": "3aea157b",
   "metadata": {},
   "outputs": [
    {
     "data": {
      "text/html": [
       "<div>\n",
       "<style scoped>\n",
       "    .dataframe tbody tr th:only-of-type {\n",
       "        vertical-align: middle;\n",
       "    }\n",
       "\n",
       "    .dataframe tbody tr th {\n",
       "        vertical-align: top;\n",
       "    }\n",
       "\n",
       "    .dataframe thead th {\n",
       "        text-align: right;\n",
       "    }\n",
       "</style>\n",
       "<table border=\"1\" class=\"dataframe\">\n",
       "  <thead>\n",
       "    <tr style=\"text-align: right;\">\n",
       "      <th>categorie_cluster3</th>\n",
       "      <th>Cluster 1</th>\n",
       "      <th>Cluster 2</th>\n",
       "      <th>Cluster 3</th>\n",
       "      <th>Cluster 4</th>\n",
       "    </tr>\n",
       "  </thead>\n",
       "  <tbody>\n",
       "    <tr>\n",
       "      <th>Clump thickness</th>\n",
       "      <td>1.248588</td>\n",
       "      <td>5.037736</td>\n",
       "      <td>4.721519</td>\n",
       "      <td>7.116564</td>\n",
       "    </tr>\n",
       "    <tr>\n",
       "      <th>Uniformity of cell cize</th>\n",
       "      <td>1.112994</td>\n",
       "      <td>1.462264</td>\n",
       "      <td>2.282700</td>\n",
       "      <td>7.723926</td>\n",
       "    </tr>\n",
       "    <tr>\n",
       "      <th>Uniformity of cell shape</th>\n",
       "      <td>1.197740</td>\n",
       "      <td>1.688679</td>\n",
       "      <td>2.510549</td>\n",
       "      <td>7.423313</td>\n",
       "    </tr>\n",
       "    <tr>\n",
       "      <th>Marginal adhesion</th>\n",
       "      <td>1.135593</td>\n",
       "      <td>1.584906</td>\n",
       "      <td>2.151899</td>\n",
       "      <td>6.466258</td>\n",
       "    </tr>\n",
       "    <tr>\n",
       "      <th>Single epithelial cell size</th>\n",
       "      <td>1.949153</td>\n",
       "      <td>2.084906</td>\n",
       "      <td>2.696203</td>\n",
       "      <td>6.159509</td>\n",
       "    </tr>\n",
       "    <tr>\n",
       "      <th>Bare nuclei</th>\n",
       "      <td>1.231638</td>\n",
       "      <td>1.235849</td>\n",
       "      <td>3.569620</td>\n",
       "      <td>7.521472</td>\n",
       "    </tr>\n",
       "    <tr>\n",
       "      <th>Bland chromatin</th>\n",
       "      <td>1.988701</td>\n",
       "      <td>2.113208</td>\n",
       "      <td>2.940928</td>\n",
       "      <td>6.625767</td>\n",
       "    </tr>\n",
       "    <tr>\n",
       "      <th>Normal nucleoli</th>\n",
       "      <td>1.067797</td>\n",
       "      <td>1.367925</td>\n",
       "      <td>2.139241</td>\n",
       "      <td>6.865031</td>\n",
       "    </tr>\n",
       "    <tr>\n",
       "      <th>Mitoses</th>\n",
       "      <td>1.033898</td>\n",
       "      <td>1.037736</td>\n",
       "      <td>1.198312</td>\n",
       "      <td>3.177914</td>\n",
       "    </tr>\n",
       "  </tbody>\n",
       "</table>\n",
       "</div>"
      ],
      "text/plain": [
       "categorie_cluster3           Cluster 1  Cluster 2  Cluster 3  Cluster 4\n",
       "Clump thickness               1.248588   5.037736   4.721519   7.116564\n",
       "Uniformity of cell cize       1.112994   1.462264   2.282700   7.723926\n",
       "Uniformity of cell shape      1.197740   1.688679   2.510549   7.423313\n",
       "Marginal adhesion             1.135593   1.584906   2.151899   6.466258\n",
       "Single epithelial cell size   1.949153   2.084906   2.696203   6.159509\n",
       "Bare nuclei                   1.231638   1.235849   3.569620   7.521472\n",
       "Bland chromatin               1.988701   2.113208   2.940928   6.625767\n",
       "Normal nucleoli               1.067797   1.367925   2.139241   6.865031\n",
       "Mitoses                       1.033898   1.037736   1.198312   3.177914"
      ]
     },
     "execution_count": 118,
     "metadata": {},
     "output_type": "execute_result"
    }
   ],
   "source": [
    "resultat_transpose3=resultat3.T\n",
    "resultat_transpose3"
   ]
  },
  {
   "cell_type": "markdown",
   "id": "ea77082f",
   "metadata": {},
   "source": [
    "### Figure 7.4 Centroids for k-means with k = 4, where the benign breast mass is Clusters 1 and 2.\n"
   ]
  },
  {
   "cell_type": "code",
   "execution_count": 119,
   "id": "e123bb3c",
   "metadata": {},
   "outputs": [
    {
     "data": {
      "text/plain": [
       "<AxesSubplot:>"
      ]
     },
     "execution_count": 119,
     "metadata": {},
     "output_type": "execute_result"
    },
    {
     "data": {
      "image/png": "[encoded data removed]",
      "text/plain": [
       "<Figure size 800x550 with 1 Axes>"
      ]
     },
     "metadata": {},
     "output_type": "display_data"
    }
   ],
   "source": [
    "resultat_transpose3.plot.bar()"
   ]
  },
  {
   "cell_type": "markdown",
   "id": "751ede3c",
   "metadata": {},
   "source": [
    "### Find the optimum value of k"
   ]
  },
  {
   "cell_type": "markdown",
   "id": "0f58a56c",
   "metadata": {},
   "source": [
    "### Figure 7.5 The elbow curve for the breast cancer problem using the average of the within-groups sum of squares"
   ]
  },
  {
   "cell_type": "code",
   "execution_count": 120,
   "id": "b0d37f73",
   "metadata": {},
   "outputs": [
    {
     "data": {
      "image/png": "[encoded data removed]",
      "text/plain": [
       "<Figure size 800x550 with 2 Axes>"
      ]
     },
     "metadata": {},
     "output_type": "display_data"
    },
    {
     "data": {
      "text/plain": [
       "<AxesSubplot:title={'center':'Distortion Score Elbow for KMeans Clustering'}, xlabel='k', ylabel='distortion score'>"
      ]
     },
     "execution_count": 120,
     "metadata": {},
     "output_type": "execute_result"
    }
   ],
   "source": [
    "kmeans=KMeans()\n",
    "visualiseur=KElbowVisualizer(kmeans,k=(2,12))\n",
    "visualiseur.fit(res_kpca)\n",
    "visualiseur.show()"
   ]
  },
  {
   "cell_type": "markdown",
   "id": "77199faa",
   "metadata": {},
   "source": [
    "**k = 4 was the value used.**"
   ]
  },
  {
   "cell_type": "code",
   "execution_count": null,
   "id": "ecfafe1a",
   "metadata": {},
   "outputs": [],
   "source": []
  }
 ],
 "metadata": {
  "kernelspec": {
   "display_name": "Python 3 (ipykernel)",
   "language": "python",
   "name": "python3"
  },
  "language_info": {
   "codemirror_mode": {
    "name": "ipython",
    "version": 3
   },
   "file_extension": ".py",
   "mimetype": "text/x-python",
   "name": "python",
   "nbconvert_exporter": "python",
   "pygments_lexer": "ipython3",
   "version": "3.9.13"
  }
 },
 "nbformat": 4,
 "nbformat_minor": 5
}
